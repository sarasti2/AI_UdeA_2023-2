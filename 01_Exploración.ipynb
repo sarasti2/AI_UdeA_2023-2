{
  "cells": [
    {
      "cell_type": "markdown",
      "metadata": {
        "id": "view-in-github",
        "colab_type": "text"
      },
      "source": [
        "<a href=\"https://colab.research.google.com/github/sarasti2/AI_UdeA_2023-2/blob/main/Copia_de_01_Exploraci%C3%B3n.ipynb\" target=\"_parent\"><img src=\"https://colab.research.google.com/assets/colab-badge.svg\" alt=\"Open In Colab\"/></a>"
      ]
    },
    {
      "cell_type": "code",
      "execution_count": null,
      "metadata": {
        "id": "3KCPrmMSBhEn"
      },
      "outputs": [],
      "source": [
        "### Importamos las librerias necesarias para la exploración de datos\n",
        "# Pandas: Libreria para el manejo de datos\n",
        "# Numpy: Libreria para el manejo de arreglos\n",
        "# Matplotlib: Libreria para la visualización de datos\n",
        "# Seaborn: Libreria para la visualización de datos\n",
        "\n",
        "import pandas as pd\n",
        "import numpy as np\n",
        "import matplotlib.pyplot as plt\n",
        "import seaborn as sns\n",
        "\n",
        "# Graficos interactivos\n",
        "# Plotly: Libreria para la visualización de datos interactivos\n",
        "import plotly.express as px\n",
        "import plotly.subplots as sp\n",
        "\n"
      ]
    },
    {
      "cell_type": "code",
      "execution_count": null,
      "metadata": {
        "id": "M8dXlglBBhE0",
        "outputId": "46d7ecb4-4535-480a-dbe4-e3b75c212978",
        "colab": {
          "base_uri": "https://localhost:8080/"
        }
      },
      "outputs": [
        {
          "output_type": "stream",
          "name": "stdout",
          "text": [
            "Requirement already satisfied: plotly in /usr/local/lib/python3.10/dist-packages (5.15.0)\n",
            "Requirement already satisfied: tenacity>=6.2.0 in /usr/local/lib/python3.10/dist-packages (from plotly) (8.2.3)\n",
            "Requirement already satisfied: packaging in /usr/local/lib/python3.10/dist-packages (from plotly) (23.2)\n",
            "Requirement already satisfied: nbformat in /usr/local/lib/python3.10/dist-packages (5.9.2)\n",
            "Requirement already satisfied: fastjsonschema in /usr/local/lib/python3.10/dist-packages (from nbformat) (2.18.1)\n",
            "Requirement already satisfied: jsonschema>=2.6 in /usr/local/lib/python3.10/dist-packages (from nbformat) (4.19.1)\n",
            "Requirement already satisfied: jupyter-core in /usr/local/lib/python3.10/dist-packages (from nbformat) (5.4.0)\n",
            "Requirement already satisfied: traitlets>=5.1 in /usr/local/lib/python3.10/dist-packages (from nbformat) (5.7.1)\n",
            "Requirement already satisfied: attrs>=22.2.0 in /usr/local/lib/python3.10/dist-packages (from jsonschema>=2.6->nbformat) (23.1.0)\n",
            "Requirement already satisfied: jsonschema-specifications>=2023.03.6 in /usr/local/lib/python3.10/dist-packages (from jsonschema>=2.6->nbformat) (2023.7.1)\n",
            "Requirement already satisfied: referencing>=0.28.4 in /usr/local/lib/python3.10/dist-packages (from jsonschema>=2.6->nbformat) (0.30.2)\n",
            "Requirement already satisfied: rpds-py>=0.7.1 in /usr/local/lib/python3.10/dist-packages (from jsonschema>=2.6->nbformat) (0.10.6)\n",
            "Requirement already satisfied: platformdirs>=2.5 in /usr/local/lib/python3.10/dist-packages (from jupyter-core->nbformat) (3.11.0)\n"
          ]
        }
      ],
      "source": [
        "# De no tener instalada plotly, ejecutar el siguiente comando\n",
        "!pip install plotly\n",
        "!pip install --upgrade nbformat"
      ]
    },
    {
      "cell_type": "code",
      "execution_count": null,
      "metadata": {
        "id": "6ecrfUFwBhE4",
        "outputId": "e5a5627e-9c32-4e04-dcb0-73a1ec0c2437",
        "colab": {
          "base_uri": "https://localhost:8080/"
        }
      },
      "outputs": [
        {
          "output_type": "stream",
          "name": "stderr",
          "text": [
            "<ipython-input-3-90295cd411b0>:2: MatplotlibDeprecationWarning: The seaborn styles shipped by Matplotlib are deprecated since 3.6, as they no longer correspond to the styles shipped by seaborn. However, they will remain available as 'seaborn-v0_8-<style>'. Alternatively, directly use the seaborn API instead.\n",
            "  plt.style.use('seaborn-darkgrid')\n"
          ]
        }
      ],
      "source": [
        "### Configuramos los parametros graficos\n",
        "plt.style.use('seaborn-darkgrid')\n",
        "plt.rcParams[\"figure.figsize\"] = (12,4)"
      ]
    },
    {
      "cell_type": "markdown",
      "metadata": {
        "id": "Y3jg4VW9BhE6"
      },
      "source": [
        "# Exploración"
      ]
    },
    {
      "cell_type": "markdown",
      "metadata": {
        "id": "1VKg9NSjBhE-"
      },
      "source": [
        "## 0. Entendimiento del signficado de las columnas"
      ]
    },
    {
      "cell_type": "code",
      "execution_count": null,
      "metadata": {
        "id": "aPV7vL8pBhE_",
        "outputId": "a80d8a27-eb8a-40c4-9ca7-8cca3e6c01e2",
        "colab": {
          "base_uri": "https://localhost:8080/"
        }
      },
      "outputs": [
        {
          "output_type": "stream",
          "name": "stdout",
          "text": [
            "       Variable name                               Variable description\n",
            "0               v2a1                               Monthly rent payment\n",
            "1             hacdor                        =1 Overcrowding by bedrooms\n",
            "2              rooms                   number of all rooms in the house\n",
            "3             hacapo                           =1 Overcrowding by rooms\n",
            "4               v14a                     =1 has toilet in the household\n",
            "5             refrig               =1 if the household has refrigerator\n",
            "6               v18q                                      owns a tablet\n",
            "7              v18q1                   number of tablets household owns\n",
            "8               r4h1                 Males younger than 12 years of age\n",
            "9               r4h2                    Males 12 years of age and older\n",
            "10              r4h3                       Total males in the household\n",
            "11              r4m1               Females younger than 12 years of age\n",
            "12              r4m2                  Females 12 years of age and older\n",
            "13              r4m3                     Total females in the household\n",
            "14              r4t1               persons younger than 12 years of age\n",
            "15              r4t2                  persons 12 years of age and older\n",
            "16              r4t3                     Total persons in the household\n",
            "17            tamhog                              size of the household\n",
            "18            tamviv                                             TamViv\n",
            "19          escolari                                 years of schooling\n",
            "20           rez_esc                             Years behind in school\n",
            "21            hhsize                                     household size\n",
            "22       paredblolad  =1 if predominant material on the outside wall...\n",
            "23       paredzocalo  =1 if predominant material on the outside wall...\n",
            "24         paredpreb  =1 if predominant material on the outside wall...\n",
            "25          pareddes  =1 if predominant material on the outside wall...\n",
            "26          paredmad  =1 if predominant material on the outside wall...\n",
            "27         paredzinc  =1 if predominant material on the outside wall...\n",
            "28       paredfibras  =1 if predominant material on the outside wall...\n",
            "29        paredother  =1 if predominant material on the outside wall...\n",
            "30        pisomoscer  =1 if predominant material on the floor is mos...\n",
            "31       pisocemento  =1 if predominant material on the floor is cement\n",
            "32         pisoother   =1 if predominant material on the floor is other\n",
            "33         pisonatur  =1 if predominant material on the floor is  na...\n",
            "34       pisonotiene                    =1 if no floor at the household\n",
            "35        pisomadera    =1 if predominant material on the floor is wood\n",
            "36         techozinc  =1 if predominant material on the roof is meta...\n",
            "37    techoentrepiso  =1 if predominant material on the roof is fibe...\n",
            "38         techocane  =1 if predominant material on the roof is natu...\n",
            "39         techootro    =1 if predominant material on the roof is other\n",
            "40         cielorazo                        =1 if the house has ceiling\n",
            "41   abastaguadentro          =1 if water provision inside the dwelling\n",
            "42    abastaguafuera         =1 if water provision outside the dwelling\n",
            "43       abastaguano                           =1 if no water provision\n",
            "44            public          =1 electricity from CNFL, ICE, ESPH/JASEC\n",
            "45           planpri                  =1 electricity from private plant\n",
            "46            noelec                  =1 no electricity in the dwelling\n",
            "47           coopele                    =1 electricity from cooperative\n",
            "48        sanitario1                       =1 no toilet in the dwelling\n",
            "49        sanitario2           =1 toilet connected to sewer or cesspool\n",
            "50        sanitario3                =1 toilet connected to  septic tank\n",
            "51        sanitario5       =1 toilet connected to black hole or letrine\n",
            "52        sanitario6                =1 toilet connected to other system\n",
            "53     energcocinar1  =1 no main source of energy used for cooking (...\n",
            "54     energcocinar2  =1 main source of energy used for cooking elec...\n",
            "55     energcocinar3      =1 main source of energy used for cooking gas\n",
            "56     energcocinar4  =1 main source of energy used for cooking wood...\n",
            "57         elimbasu1      =1 if rubbish disposal mainly by tanker truck\n",
            "58         elimbasu2  =1 if rubbish disposal mainly by botan hollow ...\n",
            "59         elimbasu3           =1 if rubbish disposal mainly by burning\n",
            "60         elimbasu4  =1 if rubbish disposal mainly by throwing in a...\n",
            "61         elimbasu5  =1 if rubbish disposal mainly by throwing in r...\n",
            "62         elimbasu6                =1 if rubbish disposal mainly other\n",
            "63           epared1                                =1 if walls are bad\n",
            "64           epared2                            =1 if walls are regular\n",
            "65           epared3                               =1 if walls are good\n",
            "66           etecho1                                 =1 if roof are bad\n",
            "67           etecho2                             =1 if roof are regular\n",
            "68           etecho3                                =1 if roof are good\n",
            "69             eviv1                                =1 if floor are bad\n",
            "70             eviv2                            =1 if floor are regular\n",
            "71             eviv3                               =1 if floor are good\n",
            "72               dis                               =1 if disable person\n",
            "73              male                                         =1 if male\n",
            "74            female                                       =1 if female\n",
            "75      estadocivil1                       =1 if less than 10 years old\n",
            "76      estadocivil2                       =1 if free or coupled uunion\n",
            "77      estadocivil3                                      =1 if married\n",
            "78      estadocivil4                                     =1 if divorced\n",
            "79      estadocivil5                                    =1 if separated\n",
            "80      estadocivil6                                     =1 if widow/er\n",
            "81      estadocivil7                                       =1 if single\n",
            "82       parentesco1                               =1 if household head\n",
            "83       parentesco2                               =1 if spouse/partner\n",
            "84       parentesco3                                 =1 if son/doughter\n",
            "85       parentesco4                             =1 if stepson/doughter\n",
            "86       parentesco5                          =1 if son/doughter in law\n",
            "87       parentesco6                            =1 if grandson/doughter\n",
            "88       parentesco7                                =1 if mother/father\n",
            "89       parentesco8                         =1 if father/mother in law\n",
            "90       parentesco9                               =1 if brother/sister\n",
            "91      parentesco10                        =1 if brother/sister in law\n",
            "92      parentesco11                          =1 if other family member\n",
            "93      parentesco12                      =1 if other non family member\n",
            "94           idhogar                         Household level identifier\n",
            "95         hogar_nin            Number of children 0 to 19 in household\n",
            "96        hogar_adul                      Number of adults in household\n",
            "97       hogar_mayor              # of individuals 65+ in the household\n",
            "98       hogar_total            # of total individuals in the household\n",
            "99        dependency                                    Dependency rate\n",
            "100           edjefe       years of education of male head of household\n",
            "101           edjefa     years of education of female head of household\n",
            "102         meaneduc        average years of education for adults (18+)\n",
            "103       instlevel1                           =1 no level of education\n",
            "104       instlevel2                              =1 incomplete primary\n",
            "105       instlevel3                                =1 complete primary\n",
            "106       instlevel4             =1 incomplete academic secondary level\n",
            "107       instlevel5               =1 complete academic secondary level\n",
            "108       instlevel6            =1 incomplete technical secondary level\n",
            "109       instlevel7              =1 complete technical secondary level\n",
            "110       instlevel8              =1 undergraduate and higher education\n",
            "111       instlevel9                   =1 postgraduate higher education\n",
            "112         bedrooms                                 number of bedrooms\n",
            "113     overcrowding                                 # persons per room\n",
            "114        tipovivi1                        =1 own and fully paid house\n",
            "115        tipovivi2                     =1 own, paying in installments\n",
            "116        tipovivi3                                          =1 rented\n",
            "117        tipovivi4                                      =1 precarious\n",
            "118        tipovivi5                       =1 other(assigned, borrowed)\n",
            "119         computer  =1 if the household has notebook or desktop co...\n",
            "120       television                         =1 if the household has TV\n",
            "121      mobilephone                                 =1 if mobile phone\n",
            "122     qmobilephone                                 # of mobile phones\n",
            "123           lugar1                                  =1 region Central\n",
            "124           lugar2                                =1 region Chorotega\n",
            "125           lugar3                      =1 region PacÃƒÂ­fico central\n",
            "126           lugar4                                   =1 region Brunca\n",
            "127           lugar5                      =1 region Huetar AtlÃƒÂ¡ntica\n",
            "128           lugar6                             =1 region Huetar Norte\n",
            "129            area1                                     =1 zona urbana\n",
            "130            area2                                      =2 zona rural\n",
            "131              age                                       Age in years\n",
            "132      SQBescolari                                   escolari squared\n",
            "133           SQBage                                        age squared\n",
            "134   SQBhogar_total                                hogar_total squared\n",
            "135        SQBedjefe                                     edjefe squared\n",
            "136     SQBhogar_nin                                  hogar_nin squared\n",
            "137  SQBovercrowding                               overcrowding squared\n",
            "138    SQBdependency                                 dependency squared\n",
            "139        SQBmeaned                                     meaned squared\n",
            "140            agesq                                        Age squared\n"
          ]
        }
      ],
      "source": [
        "pd.set_option('display.max_rows', None)\n",
        "codebook = pd.read_csv('https://raw.githubusercontent.com/sarasti2/AI_UdeA_2023-2/main/dataset/codebook.csv')\n",
        "print(codebook)\n"
      ]
    },
    {
      "cell_type": "markdown",
      "metadata": {
        "id": "VHMdlKcuBhFC"
      },
      "source": [
        "Pregunta a la que responden las variables categoricas:\n",
        "\n",
        "1. ¿Que tipo de hacinamiento tiene? 'hacdor' y 'hacapo'\n",
        "\n",
        "2. ¿Que tienen los hogares? 'v14a', 'refrig', 'v18q', 'computer', 'television', 'mobilephone'\n",
        "\n",
        "3. ¿De que estan hechos los hogares?\n",
        "\n",
        "    3.1 Paredes: 'paredblolad', 'paredzocalo', 'paredpreb', 'pareddes', 'paredmad', 'paredzinc', 'paredfibras', 'paredother'\n",
        "\n",
        "    3.2 Pisos: 'pisomoscer', 'pisocemento', 'pisoother', 'pisonatur', 'pisonotiene', 'pisomadera'\n",
        "\n",
        "    3.3 Techos: 'techozinc', 'techoentrepiso', 'techocane', 'techootro'\n",
        "\n",
        "4. ¿Como acceden a los servicios publicos?\n",
        "\n",
        "    4.1 Agua: 'abastaguadentro', 'abastaguafuera', 'abastaguano'\n",
        "\n",
        "    4.2 Electricidad: 'public', 'planpri', 'noelec', 'coopele'\n",
        "\n",
        "    4.3 Saneamiento: 'sanitario1', 'sanitario2', 'sanitario3', 'sanitario5', 'sanitario6'\n",
        "\n",
        "    4.4 Energía para cocinar: 'energcocinar1', 'energcocinar2', 'energcocinar3', 'energcocinar4'\n",
        "\n",
        "    4.5 Gestión de residuos: 'elimbasu1', 'elimbasu2', 'elimbasu3', 'elimbasu4', 'elimbasu5', 'elimbasu6'\n",
        "\n",
        "5. ¿Cual es el estado de la vivienda?\n",
        "\n",
        "    5.1 Paredes: 'epared1', 'epared2', 'epared3'\n",
        "\n",
        "    5.2 Techo: 'etecho1', 'etecho2', 'etecho3'\n",
        "\n",
        "    5.3 Piso: 'eviv1', 'eviv2', 'eviv3'\n",
        "\n",
        "6. ¿Cual es la composición de las familias en las viviendas?\n",
        "\n",
        "    6.1 ¿En el hogar hay personas con discapacidad? 'dis'\n",
        "\n",
        "    6.2 ¿Cual es el genero de las personas de la vivienda? 'male', 'female'\n",
        "\n",
        "    6.3 ¿Cual es el estado civil de las personas de la vivienda? 'estadocivil1', 'estadocivil2', 'estadocivil3', 'estadocivil4', 'estadocivil5', 'estadocivil6', 'estadocivil7'\n",
        "\n",
        "7. ¿Cual es el nivel educativo de las personas de la vivienda? 'instlevel1', 'instlevel2', 'instlevel3', 'instlevel4', 'instlevel5', 'instlevel6', 'instlevel7', 'instlevel8', 'instlevel9'\n",
        "\n",
        "8. ¿La vivienda es propiedad de la familia? 'tipovivi1', 'tipovivi2', 'tipovivi3', 'tipovivi4', 'tipovivi5'\n",
        "\n",
        "9. ¿Cual es la ubicación de la vivienda? 'lugar1', 'lugar2', 'lugar3', 'lugar4', 'lugar5', 'lugar6'\n",
        "\n",
        "    9.1 ¿Es una ubicación urbana o rural? 'area1', 'area2'"
      ]
    },
    {
      "cell_type": "markdown",
      "metadata": {
        "id": "X5xFe1mABhFF"
      },
      "source": [
        "## 1. Lectura y revisión inicial"
      ]
    },
    {
      "cell_type": "code",
      "execution_count": null,
      "metadata": {
        "id": "e9GLoJsLBhFG"
      },
      "outputs": [],
      "source": [
        "### Importamos los datos de entrenamiento y testeo\n",
        "train = pd.read_csv('https://raw.githubusercontent.com/sarasti2/AI_UdeA_2023-2/main/dataset/train.csv')\n",
        "test = pd.read_csv('https://raw.githubusercontent.com/sarasti2/AI_UdeA_2023-2/main/dataset/test.csv')"
      ]
    },
    {
      "cell_type": "code",
      "execution_count": null,
      "metadata": {
        "id": "WmK7r3FgBhFJ",
        "outputId": "a2c6b811-2f92-481c-edbe-94d5169f31bd",
        "colab": {
          "base_uri": "https://localhost:8080/"
        }
      },
      "outputs": [
        {
          "output_type": "stream",
          "name": "stdout",
          "text": [
            "Tamaño de los datos de entrenamiento [filas, Columnas]:  (9557, 143)\n",
            "Tamaño de los datos de testeo [filas, Columnas]:  (23856, 142)\n"
          ]
        }
      ],
      "source": [
        "print('Tamaño de los datos de entrenamiento [filas, Columnas]: ', train.shape)\n",
        "print('Tamaño de los datos de testeo [filas, Columnas]: ', test.shape)"
      ]
    },
    {
      "cell_type": "code",
      "execution_count": null,
      "metadata": {
        "id": "p601JzIpBhFK",
        "outputId": "f0788d54-dbb9-4e50-b56f-d3bd8d285ab8",
        "colab": {
          "base_uri": "https://localhost:8080/",
          "height": 255
        }
      },
      "outputs": [
        {
          "output_type": "execute_result",
          "data": {
            "text/plain": [
              "                Id      v2a1  hacdor  rooms  hacapo  v14a  refrig  v18q  \\\n",
              "7408  ID_01be72ac9       NaN       0      5       0     1       1     0   \n",
              "9416  ID_45b66e567       NaN       0      5       0     1       1     0   \n",
              "7814  ID_0617d7364       NaN       0      4       0     1       1     0   \n",
              "5328  ID_37c5fe508       NaN       0      4       0     1       1     0   \n",
              "6844  ID_b1b506075  180000.0       0      4       0     1       1     0   \n",
              "\n",
              "      v18q1  r4h1  ...  SQBescolari  SQBage  SQBhogar_total  SQBedjefe  \\\n",
              "7408    NaN     0  ...          225    2209               9          9   \n",
              "9416    NaN     0  ...            4    2209               9          1   \n",
              "7814    NaN     2  ...            1      64              36          9   \n",
              "5328    NaN     0  ...            9    5776               4          9   \n",
              "6844    NaN     1  ...            4      81              16        121   \n",
              "\n",
              "      SQBhogar_nin  SQBovercrowding  SQBdependency  SQBmeaned  agesq  Target  \n",
              "7408             1         1.000000           0.25      81.00   2209       4  \n",
              "9416             0         2.250000           4.00       1.00   2209       1  \n",
              "7814            16         9.000000           4.00       9.00     64       2  \n",
              "5328             0         0.444444          64.00       9.00   5776       3  \n",
              "6844             4         1.777778           1.00     132.25     81       2  \n",
              "\n",
              "[5 rows x 143 columns]"
            ],
            "text/html": [
              "\n",
              "  <div id=\"df-f4f399bf-b16f-4496-8067-277dc36d9f66\" class=\"colab-df-container\">\n",
              "    <div>\n",
              "<style scoped>\n",
              "    .dataframe tbody tr th:only-of-type {\n",
              "        vertical-align: middle;\n",
              "    }\n",
              "\n",
              "    .dataframe tbody tr th {\n",
              "        vertical-align: top;\n",
              "    }\n",
              "\n",
              "    .dataframe thead th {\n",
              "        text-align: right;\n",
              "    }\n",
              "</style>\n",
              "<table border=\"1\" class=\"dataframe\">\n",
              "  <thead>\n",
              "    <tr style=\"text-align: right;\">\n",
              "      <th></th>\n",
              "      <th>Id</th>\n",
              "      <th>v2a1</th>\n",
              "      <th>hacdor</th>\n",
              "      <th>rooms</th>\n",
              "      <th>hacapo</th>\n",
              "      <th>v14a</th>\n",
              "      <th>refrig</th>\n",
              "      <th>v18q</th>\n",
              "      <th>v18q1</th>\n",
              "      <th>r4h1</th>\n",
              "      <th>...</th>\n",
              "      <th>SQBescolari</th>\n",
              "      <th>SQBage</th>\n",
              "      <th>SQBhogar_total</th>\n",
              "      <th>SQBedjefe</th>\n",
              "      <th>SQBhogar_nin</th>\n",
              "      <th>SQBovercrowding</th>\n",
              "      <th>SQBdependency</th>\n",
              "      <th>SQBmeaned</th>\n",
              "      <th>agesq</th>\n",
              "      <th>Target</th>\n",
              "    </tr>\n",
              "  </thead>\n",
              "  <tbody>\n",
              "    <tr>\n",
              "      <th>7408</th>\n",
              "      <td>ID_01be72ac9</td>\n",
              "      <td>NaN</td>\n",
              "      <td>0</td>\n",
              "      <td>5</td>\n",
              "      <td>0</td>\n",
              "      <td>1</td>\n",
              "      <td>1</td>\n",
              "      <td>0</td>\n",
              "      <td>NaN</td>\n",
              "      <td>0</td>\n",
              "      <td>...</td>\n",
              "      <td>225</td>\n",
              "      <td>2209</td>\n",
              "      <td>9</td>\n",
              "      <td>9</td>\n",
              "      <td>1</td>\n",
              "      <td>1.000000</td>\n",
              "      <td>0.25</td>\n",
              "      <td>81.00</td>\n",
              "      <td>2209</td>\n",
              "      <td>4</td>\n",
              "    </tr>\n",
              "    <tr>\n",
              "      <th>9416</th>\n",
              "      <td>ID_45b66e567</td>\n",
              "      <td>NaN</td>\n",
              "      <td>0</td>\n",
              "      <td>5</td>\n",
              "      <td>0</td>\n",
              "      <td>1</td>\n",
              "      <td>1</td>\n",
              "      <td>0</td>\n",
              "      <td>NaN</td>\n",
              "      <td>0</td>\n",
              "      <td>...</td>\n",
              "      <td>4</td>\n",
              "      <td>2209</td>\n",
              "      <td>9</td>\n",
              "      <td>1</td>\n",
              "      <td>0</td>\n",
              "      <td>2.250000</td>\n",
              "      <td>4.00</td>\n",
              "      <td>1.00</td>\n",
              "      <td>2209</td>\n",
              "      <td>1</td>\n",
              "    </tr>\n",
              "    <tr>\n",
              "      <th>7814</th>\n",
              "      <td>ID_0617d7364</td>\n",
              "      <td>NaN</td>\n",
              "      <td>0</td>\n",
              "      <td>4</td>\n",
              "      <td>0</td>\n",
              "      <td>1</td>\n",
              "      <td>1</td>\n",
              "      <td>0</td>\n",
              "      <td>NaN</td>\n",
              "      <td>2</td>\n",
              "      <td>...</td>\n",
              "      <td>1</td>\n",
              "      <td>64</td>\n",
              "      <td>36</td>\n",
              "      <td>9</td>\n",
              "      <td>16</td>\n",
              "      <td>9.000000</td>\n",
              "      <td>4.00</td>\n",
              "      <td>9.00</td>\n",
              "      <td>64</td>\n",
              "      <td>2</td>\n",
              "    </tr>\n",
              "    <tr>\n",
              "      <th>5328</th>\n",
              "      <td>ID_37c5fe508</td>\n",
              "      <td>NaN</td>\n",
              "      <td>0</td>\n",
              "      <td>4</td>\n",
              "      <td>0</td>\n",
              "      <td>1</td>\n",
              "      <td>1</td>\n",
              "      <td>0</td>\n",
              "      <td>NaN</td>\n",
              "      <td>0</td>\n",
              "      <td>...</td>\n",
              "      <td>9</td>\n",
              "      <td>5776</td>\n",
              "      <td>4</td>\n",
              "      <td>9</td>\n",
              "      <td>0</td>\n",
              "      <td>0.444444</td>\n",
              "      <td>64.00</td>\n",
              "      <td>9.00</td>\n",
              "      <td>5776</td>\n",
              "      <td>3</td>\n",
              "    </tr>\n",
              "    <tr>\n",
              "      <th>6844</th>\n",
              "      <td>ID_b1b506075</td>\n",
              "      <td>180000.0</td>\n",
              "      <td>0</td>\n",
              "      <td>4</td>\n",
              "      <td>0</td>\n",
              "      <td>1</td>\n",
              "      <td>1</td>\n",
              "      <td>0</td>\n",
              "      <td>NaN</td>\n",
              "      <td>1</td>\n",
              "      <td>...</td>\n",
              "      <td>4</td>\n",
              "      <td>81</td>\n",
              "      <td>16</td>\n",
              "      <td>121</td>\n",
              "      <td>4</td>\n",
              "      <td>1.777778</td>\n",
              "      <td>1.00</td>\n",
              "      <td>132.25</td>\n",
              "      <td>81</td>\n",
              "      <td>2</td>\n",
              "    </tr>\n",
              "  </tbody>\n",
              "</table>\n",
              "<p>5 rows × 143 columns</p>\n",
              "</div>\n",
              "    <div class=\"colab-df-buttons\">\n",
              "\n",
              "  <div class=\"colab-df-container\">\n",
              "    <button class=\"colab-df-convert\" onclick=\"convertToInteractive('df-f4f399bf-b16f-4496-8067-277dc36d9f66')\"\n",
              "            title=\"Convert this dataframe to an interactive table.\"\n",
              "            style=\"display:none;\">\n",
              "\n",
              "  <svg xmlns=\"http://www.w3.org/2000/svg\" height=\"24px\" viewBox=\"0 -960 960 960\">\n",
              "    <path d=\"M120-120v-720h720v720H120Zm60-500h600v-160H180v160Zm220 220h160v-160H400v160Zm0 220h160v-160H400v160ZM180-400h160v-160H180v160Zm440 0h160v-160H620v160ZM180-180h160v-160H180v160Zm440 0h160v-160H620v160Z\"/>\n",
              "  </svg>\n",
              "    </button>\n",
              "\n",
              "  <style>\n",
              "    .colab-df-container {\n",
              "      display:flex;\n",
              "      gap: 12px;\n",
              "    }\n",
              "\n",
              "    .colab-df-convert {\n",
              "      background-color: #E8F0FE;\n",
              "      border: none;\n",
              "      border-radius: 50%;\n",
              "      cursor: pointer;\n",
              "      display: none;\n",
              "      fill: #1967D2;\n",
              "      height: 32px;\n",
              "      padding: 0 0 0 0;\n",
              "      width: 32px;\n",
              "    }\n",
              "\n",
              "    .colab-df-convert:hover {\n",
              "      background-color: #E2EBFA;\n",
              "      box-shadow: 0px 1px 2px rgba(60, 64, 67, 0.3), 0px 1px 3px 1px rgba(60, 64, 67, 0.15);\n",
              "      fill: #174EA6;\n",
              "    }\n",
              "\n",
              "    .colab-df-buttons div {\n",
              "      margin-bottom: 4px;\n",
              "    }\n",
              "\n",
              "    [theme=dark] .colab-df-convert {\n",
              "      background-color: #3B4455;\n",
              "      fill: #D2E3FC;\n",
              "    }\n",
              "\n",
              "    [theme=dark] .colab-df-convert:hover {\n",
              "      background-color: #434B5C;\n",
              "      box-shadow: 0px 1px 3px 1px rgba(0, 0, 0, 0.15);\n",
              "      filter: drop-shadow(0px 1px 2px rgba(0, 0, 0, 0.3));\n",
              "      fill: #FFFFFF;\n",
              "    }\n",
              "  </style>\n",
              "\n",
              "    <script>\n",
              "      const buttonEl =\n",
              "        document.querySelector('#df-f4f399bf-b16f-4496-8067-277dc36d9f66 button.colab-df-convert');\n",
              "      buttonEl.style.display =\n",
              "        google.colab.kernel.accessAllowed ? 'block' : 'none';\n",
              "\n",
              "      async function convertToInteractive(key) {\n",
              "        const element = document.querySelector('#df-f4f399bf-b16f-4496-8067-277dc36d9f66');\n",
              "        const dataTable =\n",
              "          await google.colab.kernel.invokeFunction('convertToInteractive',\n",
              "                                                    [key], {});\n",
              "        if (!dataTable) return;\n",
              "\n",
              "        const docLinkHtml = 'Like what you see? Visit the ' +\n",
              "          '<a target=\"_blank\" href=https://colab.research.google.com/notebooks/data_table.ipynb>data table notebook</a>'\n",
              "          + ' to learn more about interactive tables.';\n",
              "        element.innerHTML = '';\n",
              "        dataTable['output_type'] = 'display_data';\n",
              "        await google.colab.output.renderOutput(dataTable, element);\n",
              "        const docLink = document.createElement('div');\n",
              "        docLink.innerHTML = docLinkHtml;\n",
              "        element.appendChild(docLink);\n",
              "      }\n",
              "    </script>\n",
              "  </div>\n",
              "\n",
              "\n",
              "<div id=\"df-65784ec1-4190-4cb1-9277-647a307dbbf7\">\n",
              "  <button class=\"colab-df-quickchart\" onclick=\"quickchart('df-65784ec1-4190-4cb1-9277-647a307dbbf7')\"\n",
              "            title=\"Suggest charts.\"\n",
              "            style=\"display:none;\">\n",
              "\n",
              "<svg xmlns=\"http://www.w3.org/2000/svg\" height=\"24px\"viewBox=\"0 0 24 24\"\n",
              "     width=\"24px\">\n",
              "    <g>\n",
              "        <path d=\"M19 3H5c-1.1 0-2 .9-2 2v14c0 1.1.9 2 2 2h14c1.1 0 2-.9 2-2V5c0-1.1-.9-2-2-2zM9 17H7v-7h2v7zm4 0h-2V7h2v10zm4 0h-2v-4h2v4z\"/>\n",
              "    </g>\n",
              "</svg>\n",
              "  </button>\n",
              "\n",
              "<style>\n",
              "  .colab-df-quickchart {\n",
              "      --bg-color: #E8F0FE;\n",
              "      --fill-color: #1967D2;\n",
              "      --hover-bg-color: #E2EBFA;\n",
              "      --hover-fill-color: #174EA6;\n",
              "      --disabled-fill-color: #AAA;\n",
              "      --disabled-bg-color: #DDD;\n",
              "  }\n",
              "\n",
              "  [theme=dark] .colab-df-quickchart {\n",
              "      --bg-color: #3B4455;\n",
              "      --fill-color: #D2E3FC;\n",
              "      --hover-bg-color: #434B5C;\n",
              "      --hover-fill-color: #FFFFFF;\n",
              "      --disabled-bg-color: #3B4455;\n",
              "      --disabled-fill-color: #666;\n",
              "  }\n",
              "\n",
              "  .colab-df-quickchart {\n",
              "    background-color: var(--bg-color);\n",
              "    border: none;\n",
              "    border-radius: 50%;\n",
              "    cursor: pointer;\n",
              "    display: none;\n",
              "    fill: var(--fill-color);\n",
              "    height: 32px;\n",
              "    padding: 0;\n",
              "    width: 32px;\n",
              "  }\n",
              "\n",
              "  .colab-df-quickchart:hover {\n",
              "    background-color: var(--hover-bg-color);\n",
              "    box-shadow: 0 1px 2px rgba(60, 64, 67, 0.3), 0 1px 3px 1px rgba(60, 64, 67, 0.15);\n",
              "    fill: var(--button-hover-fill-color);\n",
              "  }\n",
              "\n",
              "  .colab-df-quickchart-complete:disabled,\n",
              "  .colab-df-quickchart-complete:disabled:hover {\n",
              "    background-color: var(--disabled-bg-color);\n",
              "    fill: var(--disabled-fill-color);\n",
              "    box-shadow: none;\n",
              "  }\n",
              "\n",
              "  .colab-df-spinner {\n",
              "    border: 2px solid var(--fill-color);\n",
              "    border-color: transparent;\n",
              "    border-bottom-color: var(--fill-color);\n",
              "    animation:\n",
              "      spin 1s steps(1) infinite;\n",
              "  }\n",
              "\n",
              "  @keyframes spin {\n",
              "    0% {\n",
              "      border-color: transparent;\n",
              "      border-bottom-color: var(--fill-color);\n",
              "      border-left-color: var(--fill-color);\n",
              "    }\n",
              "    20% {\n",
              "      border-color: transparent;\n",
              "      border-left-color: var(--fill-color);\n",
              "      border-top-color: var(--fill-color);\n",
              "    }\n",
              "    30% {\n",
              "      border-color: transparent;\n",
              "      border-left-color: var(--fill-color);\n",
              "      border-top-color: var(--fill-color);\n",
              "      border-right-color: var(--fill-color);\n",
              "    }\n",
              "    40% {\n",
              "      border-color: transparent;\n",
              "      border-right-color: var(--fill-color);\n",
              "      border-top-color: var(--fill-color);\n",
              "    }\n",
              "    60% {\n",
              "      border-color: transparent;\n",
              "      border-right-color: var(--fill-color);\n",
              "    }\n",
              "    80% {\n",
              "      border-color: transparent;\n",
              "      border-right-color: var(--fill-color);\n",
              "      border-bottom-color: var(--fill-color);\n",
              "    }\n",
              "    90% {\n",
              "      border-color: transparent;\n",
              "      border-bottom-color: var(--fill-color);\n",
              "    }\n",
              "  }\n",
              "</style>\n",
              "\n",
              "  <script>\n",
              "    async function quickchart(key) {\n",
              "      const quickchartButtonEl =\n",
              "        document.querySelector('#' + key + ' button');\n",
              "      quickchartButtonEl.disabled = true;  // To prevent multiple clicks.\n",
              "      quickchartButtonEl.classList.add('colab-df-spinner');\n",
              "      try {\n",
              "        const charts = await google.colab.kernel.invokeFunction(\n",
              "            'suggestCharts', [key], {});\n",
              "      } catch (error) {\n",
              "        console.error('Error during call to suggestCharts:', error);\n",
              "      }\n",
              "      quickchartButtonEl.classList.remove('colab-df-spinner');\n",
              "      quickchartButtonEl.classList.add('colab-df-quickchart-complete');\n",
              "    }\n",
              "    (() => {\n",
              "      let quickchartButtonEl =\n",
              "        document.querySelector('#df-65784ec1-4190-4cb1-9277-647a307dbbf7 button');\n",
              "      quickchartButtonEl.style.display =\n",
              "        google.colab.kernel.accessAllowed ? 'block' : 'none';\n",
              "    })();\n",
              "  </script>\n",
              "</div>\n",
              "    </div>\n",
              "  </div>\n"
            ]
          },
          "metadata": {},
          "execution_count": 7
        }
      ],
      "source": [
        "train.sample(5)"
      ]
    },
    {
      "cell_type": "code",
      "execution_count": null,
      "metadata": {
        "id": "T2Rw7sZvBhFL",
        "outputId": "bc3f6ea1-d13a-40be-b92f-a030c4adf259",
        "colab": {
          "base_uri": "https://localhost:8080/",
          "height": 235
        }
      },
      "outputs": [
        {
          "output_type": "execute_result",
          "data": {
            "text/plain": [
              "                 Id      v2a1  hacdor  rooms  hacapo  v14a  refrig  v18q  \\\n",
              "5209   ID_9553a302d  145000.0       0      2       0     1       1     1   \n",
              "14361  ID_3ac092507       NaN       0      4       0     1       1     0   \n",
              "18796  ID_00d7e89da       NaN       0      4       0     1       1     0   \n",
              "19788  ID_24a8889e4       NaN       0      4       0     1       1     0   \n",
              "3407   ID_ca3cf2eb4   80000.0       0      3       0     1       1     0   \n",
              "\n",
              "       v18q1  r4h1  ...  age  SQBescolari  SQBage  SQBhogar_total  SQBedjefe  \\\n",
              "5209     1.0     0  ...   70          289    4900               1        289   \n",
              "14361    NaN     0  ...   81            9    6561               9          0   \n",
              "18796    NaN     0  ...   16           81     256              16         81   \n",
              "19788    NaN     0  ...   32          121    1024              16         81   \n",
              "3407     NaN     0  ...   12           25     144              16          0   \n",
              "\n",
              "       SQBhogar_nin  SQBovercrowding  SQBdependency   SQBmeaned  agesq  \n",
              "5209              0         1.000000           64.0  289.000000   4900  \n",
              "14361             0         2.250000            4.0   13.444445   6561  \n",
              "18796             4         4.000000            1.0  144.000000    256  \n",
              "19788             4         1.777778            1.0  100.000000   1024  \n",
              "3407              4         4.000000            1.0   36.000000    144  \n",
              "\n",
              "[5 rows x 142 columns]"
            ],
            "text/html": [
              "\n",
              "  <div id=\"df-ddf2b8d7-198f-454e-abaf-09155c8526d0\" class=\"colab-df-container\">\n",
              "    <div>\n",
              "<style scoped>\n",
              "    .dataframe tbody tr th:only-of-type {\n",
              "        vertical-align: middle;\n",
              "    }\n",
              "\n",
              "    .dataframe tbody tr th {\n",
              "        vertical-align: top;\n",
              "    }\n",
              "\n",
              "    .dataframe thead th {\n",
              "        text-align: right;\n",
              "    }\n",
              "</style>\n",
              "<table border=\"1\" class=\"dataframe\">\n",
              "  <thead>\n",
              "    <tr style=\"text-align: right;\">\n",
              "      <th></th>\n",
              "      <th>Id</th>\n",
              "      <th>v2a1</th>\n",
              "      <th>hacdor</th>\n",
              "      <th>rooms</th>\n",
              "      <th>hacapo</th>\n",
              "      <th>v14a</th>\n",
              "      <th>refrig</th>\n",
              "      <th>v18q</th>\n",
              "      <th>v18q1</th>\n",
              "      <th>r4h1</th>\n",
              "      <th>...</th>\n",
              "      <th>age</th>\n",
              "      <th>SQBescolari</th>\n",
              "      <th>SQBage</th>\n",
              "      <th>SQBhogar_total</th>\n",
              "      <th>SQBedjefe</th>\n",
              "      <th>SQBhogar_nin</th>\n",
              "      <th>SQBovercrowding</th>\n",
              "      <th>SQBdependency</th>\n",
              "      <th>SQBmeaned</th>\n",
              "      <th>agesq</th>\n",
              "    </tr>\n",
              "  </thead>\n",
              "  <tbody>\n",
              "    <tr>\n",
              "      <th>5209</th>\n",
              "      <td>ID_9553a302d</td>\n",
              "      <td>145000.0</td>\n",
              "      <td>0</td>\n",
              "      <td>2</td>\n",
              "      <td>0</td>\n",
              "      <td>1</td>\n",
              "      <td>1</td>\n",
              "      <td>1</td>\n",
              "      <td>1.0</td>\n",
              "      <td>0</td>\n",
              "      <td>...</td>\n",
              "      <td>70</td>\n",
              "      <td>289</td>\n",
              "      <td>4900</td>\n",
              "      <td>1</td>\n",
              "      <td>289</td>\n",
              "      <td>0</td>\n",
              "      <td>1.000000</td>\n",
              "      <td>64.0</td>\n",
              "      <td>289.000000</td>\n",
              "      <td>4900</td>\n",
              "    </tr>\n",
              "    <tr>\n",
              "      <th>14361</th>\n",
              "      <td>ID_3ac092507</td>\n",
              "      <td>NaN</td>\n",
              "      <td>0</td>\n",
              "      <td>4</td>\n",
              "      <td>0</td>\n",
              "      <td>1</td>\n",
              "      <td>1</td>\n",
              "      <td>0</td>\n",
              "      <td>NaN</td>\n",
              "      <td>0</td>\n",
              "      <td>...</td>\n",
              "      <td>81</td>\n",
              "      <td>9</td>\n",
              "      <td>6561</td>\n",
              "      <td>9</td>\n",
              "      <td>0</td>\n",
              "      <td>0</td>\n",
              "      <td>2.250000</td>\n",
              "      <td>4.0</td>\n",
              "      <td>13.444445</td>\n",
              "      <td>6561</td>\n",
              "    </tr>\n",
              "    <tr>\n",
              "      <th>18796</th>\n",
              "      <td>ID_00d7e89da</td>\n",
              "      <td>NaN</td>\n",
              "      <td>0</td>\n",
              "      <td>4</td>\n",
              "      <td>0</td>\n",
              "      <td>1</td>\n",
              "      <td>1</td>\n",
              "      <td>0</td>\n",
              "      <td>NaN</td>\n",
              "      <td>0</td>\n",
              "      <td>...</td>\n",
              "      <td>16</td>\n",
              "      <td>81</td>\n",
              "      <td>256</td>\n",
              "      <td>16</td>\n",
              "      <td>81</td>\n",
              "      <td>4</td>\n",
              "      <td>4.000000</td>\n",
              "      <td>1.0</td>\n",
              "      <td>144.000000</td>\n",
              "      <td>256</td>\n",
              "    </tr>\n",
              "    <tr>\n",
              "      <th>19788</th>\n",
              "      <td>ID_24a8889e4</td>\n",
              "      <td>NaN</td>\n",
              "      <td>0</td>\n",
              "      <td>4</td>\n",
              "      <td>0</td>\n",
              "      <td>1</td>\n",
              "      <td>1</td>\n",
              "      <td>0</td>\n",
              "      <td>NaN</td>\n",
              "      <td>0</td>\n",
              "      <td>...</td>\n",
              "      <td>32</td>\n",
              "      <td>121</td>\n",
              "      <td>1024</td>\n",
              "      <td>16</td>\n",
              "      <td>81</td>\n",
              "      <td>4</td>\n",
              "      <td>1.777778</td>\n",
              "      <td>1.0</td>\n",
              "      <td>100.000000</td>\n",
              "      <td>1024</td>\n",
              "    </tr>\n",
              "    <tr>\n",
              "      <th>3407</th>\n",
              "      <td>ID_ca3cf2eb4</td>\n",
              "      <td>80000.0</td>\n",
              "      <td>0</td>\n",
              "      <td>3</td>\n",
              "      <td>0</td>\n",
              "      <td>1</td>\n",
              "      <td>1</td>\n",
              "      <td>0</td>\n",
              "      <td>NaN</td>\n",
              "      <td>0</td>\n",
              "      <td>...</td>\n",
              "      <td>12</td>\n",
              "      <td>25</td>\n",
              "      <td>144</td>\n",
              "      <td>16</td>\n",
              "      <td>0</td>\n",
              "      <td>4</td>\n",
              "      <td>4.000000</td>\n",
              "      <td>1.0</td>\n",
              "      <td>36.000000</td>\n",
              "      <td>144</td>\n",
              "    </tr>\n",
              "  </tbody>\n",
              "</table>\n",
              "<p>5 rows × 142 columns</p>\n",
              "</div>\n",
              "    <div class=\"colab-df-buttons\">\n",
              "\n",
              "  <div class=\"colab-df-container\">\n",
              "    <button class=\"colab-df-convert\" onclick=\"convertToInteractive('df-ddf2b8d7-198f-454e-abaf-09155c8526d0')\"\n",
              "            title=\"Convert this dataframe to an interactive table.\"\n",
              "            style=\"display:none;\">\n",
              "\n",
              "  <svg xmlns=\"http://www.w3.org/2000/svg\" height=\"24px\" viewBox=\"0 -960 960 960\">\n",
              "    <path d=\"M120-120v-720h720v720H120Zm60-500h600v-160H180v160Zm220 220h160v-160H400v160Zm0 220h160v-160H400v160ZM180-400h160v-160H180v160Zm440 0h160v-160H620v160ZM180-180h160v-160H180v160Zm440 0h160v-160H620v160Z\"/>\n",
              "  </svg>\n",
              "    </button>\n",
              "\n",
              "  <style>\n",
              "    .colab-df-container {\n",
              "      display:flex;\n",
              "      gap: 12px;\n",
              "    }\n",
              "\n",
              "    .colab-df-convert {\n",
              "      background-color: #E8F0FE;\n",
              "      border: none;\n",
              "      border-radius: 50%;\n",
              "      cursor: pointer;\n",
              "      display: none;\n",
              "      fill: #1967D2;\n",
              "      height: 32px;\n",
              "      padding: 0 0 0 0;\n",
              "      width: 32px;\n",
              "    }\n",
              "\n",
              "    .colab-df-convert:hover {\n",
              "      background-color: #E2EBFA;\n",
              "      box-shadow: 0px 1px 2px rgba(60, 64, 67, 0.3), 0px 1px 3px 1px rgba(60, 64, 67, 0.15);\n",
              "      fill: #174EA6;\n",
              "    }\n",
              "\n",
              "    .colab-df-buttons div {\n",
              "      margin-bottom: 4px;\n",
              "    }\n",
              "\n",
              "    [theme=dark] .colab-df-convert {\n",
              "      background-color: #3B4455;\n",
              "      fill: #D2E3FC;\n",
              "    }\n",
              "\n",
              "    [theme=dark] .colab-df-convert:hover {\n",
              "      background-color: #434B5C;\n",
              "      box-shadow: 0px 1px 3px 1px rgba(0, 0, 0, 0.15);\n",
              "      filter: drop-shadow(0px 1px 2px rgba(0, 0, 0, 0.3));\n",
              "      fill: #FFFFFF;\n",
              "    }\n",
              "  </style>\n",
              "\n",
              "    <script>\n",
              "      const buttonEl =\n",
              "        document.querySelector('#df-ddf2b8d7-198f-454e-abaf-09155c8526d0 button.colab-df-convert');\n",
              "      buttonEl.style.display =\n",
              "        google.colab.kernel.accessAllowed ? 'block' : 'none';\n",
              "\n",
              "      async function convertToInteractive(key) {\n",
              "        const element = document.querySelector('#df-ddf2b8d7-198f-454e-abaf-09155c8526d0');\n",
              "        const dataTable =\n",
              "          await google.colab.kernel.invokeFunction('convertToInteractive',\n",
              "                                                    [key], {});\n",
              "        if (!dataTable) return;\n",
              "\n",
              "        const docLinkHtml = 'Like what you see? Visit the ' +\n",
              "          '<a target=\"_blank\" href=https://colab.research.google.com/notebooks/data_table.ipynb>data table notebook</a>'\n",
              "          + ' to learn more about interactive tables.';\n",
              "        element.innerHTML = '';\n",
              "        dataTable['output_type'] = 'display_data';\n",
              "        await google.colab.output.renderOutput(dataTable, element);\n",
              "        const docLink = document.createElement('div');\n",
              "        docLink.innerHTML = docLinkHtml;\n",
              "        element.appendChild(docLink);\n",
              "      }\n",
              "    </script>\n",
              "  </div>\n",
              "\n",
              "\n",
              "<div id=\"df-16f5f436-8ada-4ab1-9e70-5e0f0ded3bb8\">\n",
              "  <button class=\"colab-df-quickchart\" onclick=\"quickchart('df-16f5f436-8ada-4ab1-9e70-5e0f0ded3bb8')\"\n",
              "            title=\"Suggest charts.\"\n",
              "            style=\"display:none;\">\n",
              "\n",
              "<svg xmlns=\"http://www.w3.org/2000/svg\" height=\"24px\"viewBox=\"0 0 24 24\"\n",
              "     width=\"24px\">\n",
              "    <g>\n",
              "        <path d=\"M19 3H5c-1.1 0-2 .9-2 2v14c0 1.1.9 2 2 2h14c1.1 0 2-.9 2-2V5c0-1.1-.9-2-2-2zM9 17H7v-7h2v7zm4 0h-2V7h2v10zm4 0h-2v-4h2v4z\"/>\n",
              "    </g>\n",
              "</svg>\n",
              "  </button>\n",
              "\n",
              "<style>\n",
              "  .colab-df-quickchart {\n",
              "      --bg-color: #E8F0FE;\n",
              "      --fill-color: #1967D2;\n",
              "      --hover-bg-color: #E2EBFA;\n",
              "      --hover-fill-color: #174EA6;\n",
              "      --disabled-fill-color: #AAA;\n",
              "      --disabled-bg-color: #DDD;\n",
              "  }\n",
              "\n",
              "  [theme=dark] .colab-df-quickchart {\n",
              "      --bg-color: #3B4455;\n",
              "      --fill-color: #D2E3FC;\n",
              "      --hover-bg-color: #434B5C;\n",
              "      --hover-fill-color: #FFFFFF;\n",
              "      --disabled-bg-color: #3B4455;\n",
              "      --disabled-fill-color: #666;\n",
              "  }\n",
              "\n",
              "  .colab-df-quickchart {\n",
              "    background-color: var(--bg-color);\n",
              "    border: none;\n",
              "    border-radius: 50%;\n",
              "    cursor: pointer;\n",
              "    display: none;\n",
              "    fill: var(--fill-color);\n",
              "    height: 32px;\n",
              "    padding: 0;\n",
              "    width: 32px;\n",
              "  }\n",
              "\n",
              "  .colab-df-quickchart:hover {\n",
              "    background-color: var(--hover-bg-color);\n",
              "    box-shadow: 0 1px 2px rgba(60, 64, 67, 0.3), 0 1px 3px 1px rgba(60, 64, 67, 0.15);\n",
              "    fill: var(--button-hover-fill-color);\n",
              "  }\n",
              "\n",
              "  .colab-df-quickchart-complete:disabled,\n",
              "  .colab-df-quickchart-complete:disabled:hover {\n",
              "    background-color: var(--disabled-bg-color);\n",
              "    fill: var(--disabled-fill-color);\n",
              "    box-shadow: none;\n",
              "  }\n",
              "\n",
              "  .colab-df-spinner {\n",
              "    border: 2px solid var(--fill-color);\n",
              "    border-color: transparent;\n",
              "    border-bottom-color: var(--fill-color);\n",
              "    animation:\n",
              "      spin 1s steps(1) infinite;\n",
              "  }\n",
              "\n",
              "  @keyframes spin {\n",
              "    0% {\n",
              "      border-color: transparent;\n",
              "      border-bottom-color: var(--fill-color);\n",
              "      border-left-color: var(--fill-color);\n",
              "    }\n",
              "    20% {\n",
              "      border-color: transparent;\n",
              "      border-left-color: var(--fill-color);\n",
              "      border-top-color: var(--fill-color);\n",
              "    }\n",
              "    30% {\n",
              "      border-color: transparent;\n",
              "      border-left-color: var(--fill-color);\n",
              "      border-top-color: var(--fill-color);\n",
              "      border-right-color: var(--fill-color);\n",
              "    }\n",
              "    40% {\n",
              "      border-color: transparent;\n",
              "      border-right-color: var(--fill-color);\n",
              "      border-top-color: var(--fill-color);\n",
              "    }\n",
              "    60% {\n",
              "      border-color: transparent;\n",
              "      border-right-color: var(--fill-color);\n",
              "    }\n",
              "    80% {\n",
              "      border-color: transparent;\n",
              "      border-right-color: var(--fill-color);\n",
              "      border-bottom-color: var(--fill-color);\n",
              "    }\n",
              "    90% {\n",
              "      border-color: transparent;\n",
              "      border-bottom-color: var(--fill-color);\n",
              "    }\n",
              "  }\n",
              "</style>\n",
              "\n",
              "  <script>\n",
              "    async function quickchart(key) {\n",
              "      const quickchartButtonEl =\n",
              "        document.querySelector('#' + key + ' button');\n",
              "      quickchartButtonEl.disabled = true;  // To prevent multiple clicks.\n",
              "      quickchartButtonEl.classList.add('colab-df-spinner');\n",
              "      try {\n",
              "        const charts = await google.colab.kernel.invokeFunction(\n",
              "            'suggestCharts', [key], {});\n",
              "      } catch (error) {\n",
              "        console.error('Error during call to suggestCharts:', error);\n",
              "      }\n",
              "      quickchartButtonEl.classList.remove('colab-df-spinner');\n",
              "      quickchartButtonEl.classList.add('colab-df-quickchart-complete');\n",
              "    }\n",
              "    (() => {\n",
              "      let quickchartButtonEl =\n",
              "        document.querySelector('#df-16f5f436-8ada-4ab1-9e70-5e0f0ded3bb8 button');\n",
              "      quickchartButtonEl.style.display =\n",
              "        google.colab.kernel.accessAllowed ? 'block' : 'none';\n",
              "    })();\n",
              "  </script>\n",
              "</div>\n",
              "    </div>\n",
              "  </div>\n"
            ]
          },
          "metadata": {},
          "execution_count": 8
        }
      ],
      "source": [
        "test.sample(5)"
      ]
    },
    {
      "cell_type": "code",
      "execution_count": null,
      "metadata": {
        "id": "LKWax_c9BhFM",
        "outputId": "9ba33f03-15b1-4df1-831d-f4f2d8acc5e6",
        "colab": {
          "base_uri": "https://localhost:8080/"
        }
      },
      "outputs": [
        {
          "output_type": "stream",
          "name": "stdout",
          "text": [
            "<class 'pandas.core.frame.DataFrame'>\n",
            "RangeIndex: 9557 entries, 0 to 9556\n",
            "Columns: 143 entries, Id to Target\n",
            "dtypes: float64(8), int64(130), object(5)\n",
            "memory usage: 10.4+ MB\n"
          ]
        }
      ],
      "source": [
        "train.info()"
      ]
    },
    {
      "cell_type": "code",
      "execution_count": null,
      "metadata": {
        "id": "kK-cRJQvBhFN",
        "outputId": "fd476adc-c420-408f-9dda-0397e32bc774",
        "colab": {
          "base_uri": "https://localhost:8080/"
        }
      },
      "outputs": [
        {
          "output_type": "stream",
          "name": "stdout",
          "text": [
            "<class 'pandas.core.frame.DataFrame'>\n",
            "RangeIndex: 23856 entries, 0 to 23855\n",
            "Columns: 142 entries, Id to agesq\n",
            "dtypes: float64(8), int64(129), object(5)\n",
            "memory usage: 25.8+ MB\n"
          ]
        }
      ],
      "source": [
        "test.info()"
      ]
    },
    {
      "cell_type": "markdown",
      "metadata": {
        "id": "MYlI1YAvBhFO"
      },
      "source": [
        "**Datos faltantes**"
      ]
    },
    {
      "cell_type": "markdown",
      "metadata": {
        "id": "glda_TOpBhFP"
      },
      "source": [
        "La exploración a partir de este punto se hara solo con los datos de entrenamiento"
      ]
    },
    {
      "cell_type": "code",
      "execution_count": null,
      "metadata": {
        "id": "XCIASZuxBhFP",
        "outputId": "65aa3287-d12e-43a3-951a-aa0f729f64df",
        "colab": {
          "base_uri": "https://localhost:8080/"
        }
      },
      "outputs": [
        {
          "output_type": "execute_result",
          "data": {
            "text/plain": [
              "v2a1         71.779847\n",
              "v18q1        76.823271\n",
              "rez_esc      82.954902\n",
              "meaneduc      0.052318\n",
              "SQBmeaned     0.052318\n",
              "dtype: float64"
            ]
          },
          "metadata": {},
          "execution_count": 11
        }
      ],
      "source": [
        "#Buscaremos las columnas que tienen valores nulos, y que porcentaje de cada columna es nulo\n",
        "train[train.columns[train.isnull().any()]].isnull().sum() * 100 / train.shape[0]"
      ]
    },
    {
      "cell_type": "markdown",
      "metadata": {
        "id": "KCTWuw6PBhFP"
      },
      "source": [
        "## 2. Niveles de pobreza (Variable objetivo)"
      ]
    },
    {
      "cell_type": "code",
      "execution_count": null,
      "metadata": {
        "id": "PYDh_h35BhFQ",
        "outputId": "116e5268-75d9-42b1-b261-d3985ed118db",
        "colab": {
          "base_uri": "https://localhost:8080/",
          "height": 175
        }
      },
      "outputs": [
        {
          "output_type": "execute_result",
          "data": {
            "text/plain": [
              "                      Target\n",
              "No vulnerable           5996\n",
              "Vulnerable              1597\n",
              "Moderadamente pobre     1209\n",
              "Extremadamente pobre     755"
            ],
            "text/html": [
              "\n",
              "  <div id=\"df-38545114-c97f-4417-85c8-fe0b18a10e44\" class=\"colab-df-container\">\n",
              "    <div>\n",
              "<style scoped>\n",
              "    .dataframe tbody tr th:only-of-type {\n",
              "        vertical-align: middle;\n",
              "    }\n",
              "\n",
              "    .dataframe tbody tr th {\n",
              "        vertical-align: top;\n",
              "    }\n",
              "\n",
              "    .dataframe thead th {\n",
              "        text-align: right;\n",
              "    }\n",
              "</style>\n",
              "<table border=\"1\" class=\"dataframe\">\n",
              "  <thead>\n",
              "    <tr style=\"text-align: right;\">\n",
              "      <th></th>\n",
              "      <th>Target</th>\n",
              "    </tr>\n",
              "  </thead>\n",
              "  <tbody>\n",
              "    <tr>\n",
              "      <th>No vulnerable</th>\n",
              "      <td>5996</td>\n",
              "    </tr>\n",
              "    <tr>\n",
              "      <th>Vulnerable</th>\n",
              "      <td>1597</td>\n",
              "    </tr>\n",
              "    <tr>\n",
              "      <th>Moderadamente pobre</th>\n",
              "      <td>1209</td>\n",
              "    </tr>\n",
              "    <tr>\n",
              "      <th>Extremadamente pobre</th>\n",
              "      <td>755</td>\n",
              "    </tr>\n",
              "  </tbody>\n",
              "</table>\n",
              "</div>\n",
              "    <div class=\"colab-df-buttons\">\n",
              "\n",
              "  <div class=\"colab-df-container\">\n",
              "    <button class=\"colab-df-convert\" onclick=\"convertToInteractive('df-38545114-c97f-4417-85c8-fe0b18a10e44')\"\n",
              "            title=\"Convert this dataframe to an interactive table.\"\n",
              "            style=\"display:none;\">\n",
              "\n",
              "  <svg xmlns=\"http://www.w3.org/2000/svg\" height=\"24px\" viewBox=\"0 -960 960 960\">\n",
              "    <path d=\"M120-120v-720h720v720H120Zm60-500h600v-160H180v160Zm220 220h160v-160H400v160Zm0 220h160v-160H400v160ZM180-400h160v-160H180v160Zm440 0h160v-160H620v160ZM180-180h160v-160H180v160Zm440 0h160v-160H620v160Z\"/>\n",
              "  </svg>\n",
              "    </button>\n",
              "\n",
              "  <style>\n",
              "    .colab-df-container {\n",
              "      display:flex;\n",
              "      gap: 12px;\n",
              "    }\n",
              "\n",
              "    .colab-df-convert {\n",
              "      background-color: #E8F0FE;\n",
              "      border: none;\n",
              "      border-radius: 50%;\n",
              "      cursor: pointer;\n",
              "      display: none;\n",
              "      fill: #1967D2;\n",
              "      height: 32px;\n",
              "      padding: 0 0 0 0;\n",
              "      width: 32px;\n",
              "    }\n",
              "\n",
              "    .colab-df-convert:hover {\n",
              "      background-color: #E2EBFA;\n",
              "      box-shadow: 0px 1px 2px rgba(60, 64, 67, 0.3), 0px 1px 3px 1px rgba(60, 64, 67, 0.15);\n",
              "      fill: #174EA6;\n",
              "    }\n",
              "\n",
              "    .colab-df-buttons div {\n",
              "      margin-bottom: 4px;\n",
              "    }\n",
              "\n",
              "    [theme=dark] .colab-df-convert {\n",
              "      background-color: #3B4455;\n",
              "      fill: #D2E3FC;\n",
              "    }\n",
              "\n",
              "    [theme=dark] .colab-df-convert:hover {\n",
              "      background-color: #434B5C;\n",
              "      box-shadow: 0px 1px 3px 1px rgba(0, 0, 0, 0.15);\n",
              "      filter: drop-shadow(0px 1px 2px rgba(0, 0, 0, 0.3));\n",
              "      fill: #FFFFFF;\n",
              "    }\n",
              "  </style>\n",
              "\n",
              "    <script>\n",
              "      const buttonEl =\n",
              "        document.querySelector('#df-38545114-c97f-4417-85c8-fe0b18a10e44 button.colab-df-convert');\n",
              "      buttonEl.style.display =\n",
              "        google.colab.kernel.accessAllowed ? 'block' : 'none';\n",
              "\n",
              "      async function convertToInteractive(key) {\n",
              "        const element = document.querySelector('#df-38545114-c97f-4417-85c8-fe0b18a10e44');\n",
              "        const dataTable =\n",
              "          await google.colab.kernel.invokeFunction('convertToInteractive',\n",
              "                                                    [key], {});\n",
              "        if (!dataTable) return;\n",
              "\n",
              "        const docLinkHtml = 'Like what you see? Visit the ' +\n",
              "          '<a target=\"_blank\" href=https://colab.research.google.com/notebooks/data_table.ipynb>data table notebook</a>'\n",
              "          + ' to learn more about interactive tables.';\n",
              "        element.innerHTML = '';\n",
              "        dataTable['output_type'] = 'display_data';\n",
              "        await google.colab.output.renderOutput(dataTable, element);\n",
              "        const docLink = document.createElement('div');\n",
              "        docLink.innerHTML = docLinkHtml;\n",
              "        element.appendChild(docLink);\n",
              "      }\n",
              "    </script>\n",
              "  </div>\n",
              "\n",
              "\n",
              "<div id=\"df-e7d604bd-eddb-4b1a-9901-c6de367a44c6\">\n",
              "  <button class=\"colab-df-quickchart\" onclick=\"quickchart('df-e7d604bd-eddb-4b1a-9901-c6de367a44c6')\"\n",
              "            title=\"Suggest charts.\"\n",
              "            style=\"display:none;\">\n",
              "\n",
              "<svg xmlns=\"http://www.w3.org/2000/svg\" height=\"24px\"viewBox=\"0 0 24 24\"\n",
              "     width=\"24px\">\n",
              "    <g>\n",
              "        <path d=\"M19 3H5c-1.1 0-2 .9-2 2v14c0 1.1.9 2 2 2h14c1.1 0 2-.9 2-2V5c0-1.1-.9-2-2-2zM9 17H7v-7h2v7zm4 0h-2V7h2v10zm4 0h-2v-4h2v4z\"/>\n",
              "    </g>\n",
              "</svg>\n",
              "  </button>\n",
              "\n",
              "<style>\n",
              "  .colab-df-quickchart {\n",
              "      --bg-color: #E8F0FE;\n",
              "      --fill-color: #1967D2;\n",
              "      --hover-bg-color: #E2EBFA;\n",
              "      --hover-fill-color: #174EA6;\n",
              "      --disabled-fill-color: #AAA;\n",
              "      --disabled-bg-color: #DDD;\n",
              "  }\n",
              "\n",
              "  [theme=dark] .colab-df-quickchart {\n",
              "      --bg-color: #3B4455;\n",
              "      --fill-color: #D2E3FC;\n",
              "      --hover-bg-color: #434B5C;\n",
              "      --hover-fill-color: #FFFFFF;\n",
              "      --disabled-bg-color: #3B4455;\n",
              "      --disabled-fill-color: #666;\n",
              "  }\n",
              "\n",
              "  .colab-df-quickchart {\n",
              "    background-color: var(--bg-color);\n",
              "    border: none;\n",
              "    border-radius: 50%;\n",
              "    cursor: pointer;\n",
              "    display: none;\n",
              "    fill: var(--fill-color);\n",
              "    height: 32px;\n",
              "    padding: 0;\n",
              "    width: 32px;\n",
              "  }\n",
              "\n",
              "  .colab-df-quickchart:hover {\n",
              "    background-color: var(--hover-bg-color);\n",
              "    box-shadow: 0 1px 2px rgba(60, 64, 67, 0.3), 0 1px 3px 1px rgba(60, 64, 67, 0.15);\n",
              "    fill: var(--button-hover-fill-color);\n",
              "  }\n",
              "\n",
              "  .colab-df-quickchart-complete:disabled,\n",
              "  .colab-df-quickchart-complete:disabled:hover {\n",
              "    background-color: var(--disabled-bg-color);\n",
              "    fill: var(--disabled-fill-color);\n",
              "    box-shadow: none;\n",
              "  }\n",
              "\n",
              "  .colab-df-spinner {\n",
              "    border: 2px solid var(--fill-color);\n",
              "    border-color: transparent;\n",
              "    border-bottom-color: var(--fill-color);\n",
              "    animation:\n",
              "      spin 1s steps(1) infinite;\n",
              "  }\n",
              "\n",
              "  @keyframes spin {\n",
              "    0% {\n",
              "      border-color: transparent;\n",
              "      border-bottom-color: var(--fill-color);\n",
              "      border-left-color: var(--fill-color);\n",
              "    }\n",
              "    20% {\n",
              "      border-color: transparent;\n",
              "      border-left-color: var(--fill-color);\n",
              "      border-top-color: var(--fill-color);\n",
              "    }\n",
              "    30% {\n",
              "      border-color: transparent;\n",
              "      border-left-color: var(--fill-color);\n",
              "      border-top-color: var(--fill-color);\n",
              "      border-right-color: var(--fill-color);\n",
              "    }\n",
              "    40% {\n",
              "      border-color: transparent;\n",
              "      border-right-color: var(--fill-color);\n",
              "      border-top-color: var(--fill-color);\n",
              "    }\n",
              "    60% {\n",
              "      border-color: transparent;\n",
              "      border-right-color: var(--fill-color);\n",
              "    }\n",
              "    80% {\n",
              "      border-color: transparent;\n",
              "      border-right-color: var(--fill-color);\n",
              "      border-bottom-color: var(--fill-color);\n",
              "    }\n",
              "    90% {\n",
              "      border-color: transparent;\n",
              "      border-bottom-color: var(--fill-color);\n",
              "    }\n",
              "  }\n",
              "</style>\n",
              "\n",
              "  <script>\n",
              "    async function quickchart(key) {\n",
              "      const quickchartButtonEl =\n",
              "        document.querySelector('#' + key + ' button');\n",
              "      quickchartButtonEl.disabled = true;  // To prevent multiple clicks.\n",
              "      quickchartButtonEl.classList.add('colab-df-spinner');\n",
              "      try {\n",
              "        const charts = await google.colab.kernel.invokeFunction(\n",
              "            'suggestCharts', [key], {});\n",
              "      } catch (error) {\n",
              "        console.error('Error during call to suggestCharts:', error);\n",
              "      }\n",
              "      quickchartButtonEl.classList.remove('colab-df-spinner');\n",
              "      quickchartButtonEl.classList.add('colab-df-quickchart-complete');\n",
              "    }\n",
              "    (() => {\n",
              "      let quickchartButtonEl =\n",
              "        document.querySelector('#df-e7d604bd-eddb-4b1a-9901-c6de367a44c6 button');\n",
              "      quickchartButtonEl.style.display =\n",
              "        google.colab.kernel.accessAllowed ? 'block' : 'none';\n",
              "    })();\n",
              "  </script>\n",
              "</div>\n",
              "    </div>\n",
              "  </div>\n"
            ]
          },
          "metadata": {},
          "execution_count": 12
        }
      ],
      "source": [
        "# Creamos un dataframe con el conteo de cada categoria en la columna 'Target'\n",
        "target = train['Target'].value_counts().to_frame()\n",
        "target = target.set_index([['No vulnerable', 'Vulnerable', 'Moderadamente pobre', 'Extremadamente pobre']])\n",
        "target"
      ]
    },
    {
      "cell_type": "code",
      "execution_count": null,
      "metadata": {
        "id": "tKPSuLnwBhFR",
        "outputId": "09080d99-f67c-458c-9a5b-7a40a5ed9b4f",
        "colab": {
          "base_uri": "https://localhost:8080/",
          "height": 542
        }
      },
      "outputs": [
        {
          "output_type": "display_data",
          "data": {
            "text/html": [
              "<html>\n",
              "<head><meta charset=\"utf-8\" /></head>\n",
              "<body>\n",
              "    <div>            <script src=\"https://cdnjs.cloudflare.com/ajax/libs/mathjax/2.7.5/MathJax.js?config=TeX-AMS-MML_SVG\"></script><script type=\"text/javascript\">if (window.MathJax && window.MathJax.Hub && window.MathJax.Hub.Config) {window.MathJax.Hub.Config({SVG: {font: \"STIX-Web\"}});}</script>                <script type=\"text/javascript\">window.PlotlyConfig = {MathJaxConfig: 'local'};</script>\n",
              "        <script charset=\"utf-8\" src=\"https://cdn.plot.ly/plotly-2.24.1.min.js\"></script>                <div id=\"5eed72a8-7b09-464a-8a9d-7ed23addedfe\" class=\"plotly-graph-div\" style=\"height:525px; width:100%;\"></div>            <script type=\"text/javascript\">                                    window.PLOTLYENV=window.PLOTLYENV || {};                                    if (document.getElementById(\"5eed72a8-7b09-464a-8a9d-7ed23addedfe\")) {                    Plotly.newPlot(                        \"5eed72a8-7b09-464a-8a9d-7ed23addedfe\",                        [{\"alignmentgroup\":\"True\",\"hovertemplate\":\"index=%{x}\\u003cbr\\u003eTarget=%{y}\\u003cextra\\u003e\\u003c\\u002fextra\\u003e\",\"legendgroup\":\"\",\"marker\":{\"color\":\"#636efa\",\"pattern\":{\"shape\":\"\"}},\"name\":\"\",\"offsetgroup\":\"\",\"orientation\":\"v\",\"showlegend\":false,\"textposition\":\"auto\",\"x\":[\"No vulnerable\",\"Vulnerable\",\"Moderadamente pobre\",\"Extremadamente pobre\"],\"xaxis\":\"x\",\"y\":[5996,1597,1209,755],\"yaxis\":\"y\",\"type\":\"bar\"}],                        {\"template\":{\"data\":{\"histogram2dcontour\":[{\"type\":\"histogram2dcontour\",\"colorbar\":{\"outlinewidth\":0,\"ticks\":\"\"},\"colorscale\":[[0.0,\"#0d0887\"],[0.1111111111111111,\"#46039f\"],[0.2222222222222222,\"#7201a8\"],[0.3333333333333333,\"#9c179e\"],[0.4444444444444444,\"#bd3786\"],[0.5555555555555556,\"#d8576b\"],[0.6666666666666666,\"#ed7953\"],[0.7777777777777778,\"#fb9f3a\"],[0.8888888888888888,\"#fdca26\"],[1.0,\"#f0f921\"]]}],\"choropleth\":[{\"type\":\"choropleth\",\"colorbar\":{\"outlinewidth\":0,\"ticks\":\"\"}}],\"histogram2d\":[{\"type\":\"histogram2d\",\"colorbar\":{\"outlinewidth\":0,\"ticks\":\"\"},\"colorscale\":[[0.0,\"#0d0887\"],[0.1111111111111111,\"#46039f\"],[0.2222222222222222,\"#7201a8\"],[0.3333333333333333,\"#9c179e\"],[0.4444444444444444,\"#bd3786\"],[0.5555555555555556,\"#d8576b\"],[0.6666666666666666,\"#ed7953\"],[0.7777777777777778,\"#fb9f3a\"],[0.8888888888888888,\"#fdca26\"],[1.0,\"#f0f921\"]]}],\"heatmap\":[{\"type\":\"heatmap\",\"colorbar\":{\"outlinewidth\":0,\"ticks\":\"\"},\"colorscale\":[[0.0,\"#0d0887\"],[0.1111111111111111,\"#46039f\"],[0.2222222222222222,\"#7201a8\"],[0.3333333333333333,\"#9c179e\"],[0.4444444444444444,\"#bd3786\"],[0.5555555555555556,\"#d8576b\"],[0.6666666666666666,\"#ed7953\"],[0.7777777777777778,\"#fb9f3a\"],[0.8888888888888888,\"#fdca26\"],[1.0,\"#f0f921\"]]}],\"heatmapgl\":[{\"type\":\"heatmapgl\",\"colorbar\":{\"outlinewidth\":0,\"ticks\":\"\"},\"colorscale\":[[0.0,\"#0d0887\"],[0.1111111111111111,\"#46039f\"],[0.2222222222222222,\"#7201a8\"],[0.3333333333333333,\"#9c179e\"],[0.4444444444444444,\"#bd3786\"],[0.5555555555555556,\"#d8576b\"],[0.6666666666666666,\"#ed7953\"],[0.7777777777777778,\"#fb9f3a\"],[0.8888888888888888,\"#fdca26\"],[1.0,\"#f0f921\"]]}],\"contourcarpet\":[{\"type\":\"contourcarpet\",\"colorbar\":{\"outlinewidth\":0,\"ticks\":\"\"}}],\"contour\":[{\"type\":\"contour\",\"colorbar\":{\"outlinewidth\":0,\"ticks\":\"\"},\"colorscale\":[[0.0,\"#0d0887\"],[0.1111111111111111,\"#46039f\"],[0.2222222222222222,\"#7201a8\"],[0.3333333333333333,\"#9c179e\"],[0.4444444444444444,\"#bd3786\"],[0.5555555555555556,\"#d8576b\"],[0.6666666666666666,\"#ed7953\"],[0.7777777777777778,\"#fb9f3a\"],[0.8888888888888888,\"#fdca26\"],[1.0,\"#f0f921\"]]}],\"surface\":[{\"type\":\"surface\",\"colorbar\":{\"outlinewidth\":0,\"ticks\":\"\"},\"colorscale\":[[0.0,\"#0d0887\"],[0.1111111111111111,\"#46039f\"],[0.2222222222222222,\"#7201a8\"],[0.3333333333333333,\"#9c179e\"],[0.4444444444444444,\"#bd3786\"],[0.5555555555555556,\"#d8576b\"],[0.6666666666666666,\"#ed7953\"],[0.7777777777777778,\"#fb9f3a\"],[0.8888888888888888,\"#fdca26\"],[1.0,\"#f0f921\"]]}],\"mesh3d\":[{\"type\":\"mesh3d\",\"colorbar\":{\"outlinewidth\":0,\"ticks\":\"\"}}],\"scatter\":[{\"fillpattern\":{\"fillmode\":\"overlay\",\"size\":10,\"solidity\":0.2},\"type\":\"scatter\"}],\"parcoords\":[{\"type\":\"parcoords\",\"line\":{\"colorbar\":{\"outlinewidth\":0,\"ticks\":\"\"}}}],\"scatterpolargl\":[{\"type\":\"scatterpolargl\",\"marker\":{\"colorbar\":{\"outlinewidth\":0,\"ticks\":\"\"}}}],\"bar\":[{\"error_x\":{\"color\":\"#2a3f5f\"},\"error_y\":{\"color\":\"#2a3f5f\"},\"marker\":{\"line\":{\"color\":\"#E5ECF6\",\"width\":0.5},\"pattern\":{\"fillmode\":\"overlay\",\"size\":10,\"solidity\":0.2}},\"type\":\"bar\"}],\"scattergeo\":[{\"type\":\"scattergeo\",\"marker\":{\"colorbar\":{\"outlinewidth\":0,\"ticks\":\"\"}}}],\"scatterpolar\":[{\"type\":\"scatterpolar\",\"marker\":{\"colorbar\":{\"outlinewidth\":0,\"ticks\":\"\"}}}],\"histogram\":[{\"marker\":{\"pattern\":{\"fillmode\":\"overlay\",\"size\":10,\"solidity\":0.2}},\"type\":\"histogram\"}],\"scattergl\":[{\"type\":\"scattergl\",\"marker\":{\"colorbar\":{\"outlinewidth\":0,\"ticks\":\"\"}}}],\"scatter3d\":[{\"type\":\"scatter3d\",\"line\":{\"colorbar\":{\"outlinewidth\":0,\"ticks\":\"\"}},\"marker\":{\"colorbar\":{\"outlinewidth\":0,\"ticks\":\"\"}}}],\"scattermapbox\":[{\"type\":\"scattermapbox\",\"marker\":{\"colorbar\":{\"outlinewidth\":0,\"ticks\":\"\"}}}],\"scatterternary\":[{\"type\":\"scatterternary\",\"marker\":{\"colorbar\":{\"outlinewidth\":0,\"ticks\":\"\"}}}],\"scattercarpet\":[{\"type\":\"scattercarpet\",\"marker\":{\"colorbar\":{\"outlinewidth\":0,\"ticks\":\"\"}}}],\"carpet\":[{\"aaxis\":{\"endlinecolor\":\"#2a3f5f\",\"gridcolor\":\"white\",\"linecolor\":\"white\",\"minorgridcolor\":\"white\",\"startlinecolor\":\"#2a3f5f\"},\"baxis\":{\"endlinecolor\":\"#2a3f5f\",\"gridcolor\":\"white\",\"linecolor\":\"white\",\"minorgridcolor\":\"white\",\"startlinecolor\":\"#2a3f5f\"},\"type\":\"carpet\"}],\"table\":[{\"cells\":{\"fill\":{\"color\":\"#EBF0F8\"},\"line\":{\"color\":\"white\"}},\"header\":{\"fill\":{\"color\":\"#C8D4E3\"},\"line\":{\"color\":\"white\"}},\"type\":\"table\"}],\"barpolar\":[{\"marker\":{\"line\":{\"color\":\"#E5ECF6\",\"width\":0.5},\"pattern\":{\"fillmode\":\"overlay\",\"size\":10,\"solidity\":0.2}},\"type\":\"barpolar\"}],\"pie\":[{\"automargin\":true,\"type\":\"pie\"}]},\"layout\":{\"autotypenumbers\":\"strict\",\"colorway\":[\"#636efa\",\"#EF553B\",\"#00cc96\",\"#ab63fa\",\"#FFA15A\",\"#19d3f3\",\"#FF6692\",\"#B6E880\",\"#FF97FF\",\"#FECB52\"],\"font\":{\"color\":\"#2a3f5f\"},\"hovermode\":\"closest\",\"hoverlabel\":{\"align\":\"left\"},\"paper_bgcolor\":\"white\",\"plot_bgcolor\":\"#E5ECF6\",\"polar\":{\"bgcolor\":\"#E5ECF6\",\"angularaxis\":{\"gridcolor\":\"white\",\"linecolor\":\"white\",\"ticks\":\"\"},\"radialaxis\":{\"gridcolor\":\"white\",\"linecolor\":\"white\",\"ticks\":\"\"}},\"ternary\":{\"bgcolor\":\"#E5ECF6\",\"aaxis\":{\"gridcolor\":\"white\",\"linecolor\":\"white\",\"ticks\":\"\"},\"baxis\":{\"gridcolor\":\"white\",\"linecolor\":\"white\",\"ticks\":\"\"},\"caxis\":{\"gridcolor\":\"white\",\"linecolor\":\"white\",\"ticks\":\"\"}},\"coloraxis\":{\"colorbar\":{\"outlinewidth\":0,\"ticks\":\"\"}},\"colorscale\":{\"sequential\":[[0.0,\"#0d0887\"],[0.1111111111111111,\"#46039f\"],[0.2222222222222222,\"#7201a8\"],[0.3333333333333333,\"#9c179e\"],[0.4444444444444444,\"#bd3786\"],[0.5555555555555556,\"#d8576b\"],[0.6666666666666666,\"#ed7953\"],[0.7777777777777778,\"#fb9f3a\"],[0.8888888888888888,\"#fdca26\"],[1.0,\"#f0f921\"]],\"sequentialminus\":[[0.0,\"#0d0887\"],[0.1111111111111111,\"#46039f\"],[0.2222222222222222,\"#7201a8\"],[0.3333333333333333,\"#9c179e\"],[0.4444444444444444,\"#bd3786\"],[0.5555555555555556,\"#d8576b\"],[0.6666666666666666,\"#ed7953\"],[0.7777777777777778,\"#fb9f3a\"],[0.8888888888888888,\"#fdca26\"],[1.0,\"#f0f921\"]],\"diverging\":[[0,\"#8e0152\"],[0.1,\"#c51b7d\"],[0.2,\"#de77ae\"],[0.3,\"#f1b6da\"],[0.4,\"#fde0ef\"],[0.5,\"#f7f7f7\"],[0.6,\"#e6f5d0\"],[0.7,\"#b8e186\"],[0.8,\"#7fbc41\"],[0.9,\"#4d9221\"],[1,\"#276419\"]]},\"xaxis\":{\"gridcolor\":\"white\",\"linecolor\":\"white\",\"ticks\":\"\",\"title\":{\"standoff\":15},\"zerolinecolor\":\"white\",\"automargin\":true,\"zerolinewidth\":2},\"yaxis\":{\"gridcolor\":\"white\",\"linecolor\":\"white\",\"ticks\":\"\",\"title\":{\"standoff\":15},\"zerolinecolor\":\"white\",\"automargin\":true,\"zerolinewidth\":2},\"scene\":{\"xaxis\":{\"backgroundcolor\":\"#E5ECF6\",\"gridcolor\":\"white\",\"linecolor\":\"white\",\"showbackground\":true,\"ticks\":\"\",\"zerolinecolor\":\"white\",\"gridwidth\":2},\"yaxis\":{\"backgroundcolor\":\"#E5ECF6\",\"gridcolor\":\"white\",\"linecolor\":\"white\",\"showbackground\":true,\"ticks\":\"\",\"zerolinecolor\":\"white\",\"gridwidth\":2},\"zaxis\":{\"backgroundcolor\":\"#E5ECF6\",\"gridcolor\":\"white\",\"linecolor\":\"white\",\"showbackground\":true,\"ticks\":\"\",\"zerolinecolor\":\"white\",\"gridwidth\":2}},\"shapedefaults\":{\"line\":{\"color\":\"#2a3f5f\"}},\"annotationdefaults\":{\"arrowcolor\":\"#2a3f5f\",\"arrowhead\":0,\"arrowwidth\":1},\"geo\":{\"bgcolor\":\"white\",\"landcolor\":\"#E5ECF6\",\"subunitcolor\":\"white\",\"showland\":true,\"showlakes\":true,\"lakecolor\":\"white\"},\"title\":{\"x\":0.05},\"mapbox\":{\"style\":\"light\"}}},\"xaxis\":{\"anchor\":\"y\",\"domain\":[0.0,1.0],\"title\":{\"text\":\"Nivel de pobreza\"}},\"yaxis\":{\"anchor\":\"x\",\"domain\":[0.0,1.0],\"title\":{\"text\":\"N\\u00famero de personas\"}},\"legend\":{\"tracegroupgap\":0},\"title\":{\"text\":\"Niveles de pobreza\"},\"barmode\":\"relative\"},                        {\"responsive\": true}                    ).then(function(){\n",
              "                            \n",
              "var gd = document.getElementById('5eed72a8-7b09-464a-8a9d-7ed23addedfe');\n",
              "var x = new MutationObserver(function (mutations, observer) {{\n",
              "        var display = window.getComputedStyle(gd).display;\n",
              "        if (!display || display === 'none') {{\n",
              "            console.log([gd, 'removed!']);\n",
              "            Plotly.purge(gd);\n",
              "            observer.disconnect();\n",
              "        }}\n",
              "}});\n",
              "\n",
              "// Listen for the removal of the full notebook cells\n",
              "var notebookContainer = gd.closest('#notebook-container');\n",
              "if (notebookContainer) {{\n",
              "    x.observe(notebookContainer, {childList: true});\n",
              "}}\n",
              "\n",
              "// Listen for the clearing of the current output cell\n",
              "var outputEl = gd.closest('.output');\n",
              "if (outputEl) {{\n",
              "    x.observe(outputEl, {childList: true});\n",
              "}}\n",
              "\n",
              "                        })                };                            </script>        </div>\n",
              "</body>\n",
              "</html>"
            ]
          },
          "metadata": {}
        }
      ],
      "source": [
        "# Graficamos el conteo de cada categoria en la columna 'Target'\n",
        "fig = px.bar(target, x=target.index, y='Target', title='Niveles de pobreza')\n",
        "fig.update_layout(xaxis_title=\"Nivel de pobreza\", yaxis_title=\"Número de personas\")\n",
        "fig.show()\n"
      ]
    },
    {
      "cell_type": "markdown",
      "metadata": {
        "id": "JtpkO7qbBhFR"
      },
      "source": [
        "Se observa que la variable objetivo es desbalanceada, por lo que se deberá tener cuidado al momento de evaluar los modelos."
      ]
    },
    {
      "cell_type": "markdown",
      "metadata": {
        "id": "OBXtxWDQBhFS"
      },
      "source": [
        "## 3. Variables categóricas"
      ]
    },
    {
      "cell_type": "markdown",
      "metadata": {
        "id": "KsHHI8C4BhFS"
      },
      "source": [
        "### 3.1 ¿Que tipo de hacinamiento tiene?"
      ]
    },
    {
      "cell_type": "code",
      "execution_count": null,
      "metadata": {
        "id": "mBfnnxbHBhFT"
      },
      "outputs": [],
      "source": [
        "hac = train.groupby(['Target'])[['hacdor']].sum().merge(train.groupby(['Target'])[['hacapo']].sum(), on = 'Target')\n",
        "hac = hac.set_index([['Extremadamente pobre', 'Moderadamente pobre', 'Vulnerable', 'No vulnerable']])\n",
        "hac = hac.rename(columns = {'hacdor':'Hacinamiento dormitorios', 'hacapo':'Hacinamiento cuartos'})\n",
        "hac = hac.T\n",
        "fig = px.bar(hac, x=hac.index, y=hac.columns, title='Hacinamiento', barmode='group')\n",
        "fig.update_layout(xaxis_title=\"Tipo de hacinamiento\", yaxis_title=\"Número de personas\")"
      ]
    },
    {
      "cell_type": "code",
      "execution_count": null,
      "metadata": {
        "id": "QRuwY53_BhFT"
      },
      "outputs": [],
      "source": [
        "#Graficaremos solo hacinamiento en dormitorios para verlo mejor\n",
        "hac_dorm = hac.loc[['Hacinamiento dormitorios']].T\n",
        "fig = px.bar(hac_dorm,x = hac_dorm.index, y = hac_dorm.columns, title='Hacinamiento en dormitorios',)\n",
        "fig.update_layout(xaxis_title=\"Tipo de hacinamiento\", yaxis_title=\"Número de personas\")\n",
        "fig.show()"
      ]
    },
    {
      "cell_type": "markdown",
      "metadata": {
        "id": "u5TyFeURBhFU"
      },
      "source": [
        "### 3.2 ¿Que electrodomesticos o dispositivos electronicos tienen los hogares?\n",
        "\n"
      ]
    },
    {
      "cell_type": "code",
      "execution_count": null,
      "metadata": {
        "id": "K7gIi4jRBhFU"
      },
      "outputs": [],
      "source": [
        "# Función para agrupar las columnas por el nivel de pobreza\n",
        "def groupby_target(df, colums, names):\n",
        "    df_n = df.groupby(['Target'])[[colums[0]]].sum()\n",
        "    for i in colums[1:]:\n",
        "        df_n = df.groupby(['Target'])[[i]].sum().merge(df_n, on = 'Target')\n",
        "    df_n = df_n.rename(columns = {colums[0]:names[0]})\n",
        "    df_n = df_n.set_index([['Extremadamente pobre', 'Moderadamente pobre', 'Vulnerable', 'No vulnerable']])\n",
        "    names = zip(colums, names)\n",
        "    df_n = df_n.rename(columns = dict(names))\n",
        "    return df_n.T\n",
        "\n",
        "# Función para sacar el porcentaje de cada categoria en el nivel de pobreza\n",
        "def groupby_target_por(df, colums, names):\n",
        "    df_n = df.groupby(['Target'])[[colums[0]]].sum()/df.groupby(['Target'])[[colums[0]]].count()\n",
        "    for i in colums[1:]:\n",
        "        df_n = (df.groupby(['Target'])[[i]].sum()/df.groupby(['Target'])[[i]].count()).merge(df_n, on = 'Target')\n",
        "    df_n = df_n.set_index([['Extremadamente pobre', 'Moderadamente pobre', 'Vulnerable', 'No vulnerable']])\n",
        "    names = zip(colums, names)\n",
        "    df_n = df_n.rename(columns = dict(names))\n",
        "    return df_n.T"
      ]
    },
    {
      "cell_type": "code",
      "execution_count": null,
      "metadata": {
        "id": "QgH_WMHZBhFU"
      },
      "outputs": [],
      "source": [
        "columnas = ['v14a', 'refrig', 'v18q', 'computer', 'television', 'mobilephone']\n",
        "nombres = ['Tiene baño', 'Tiene refrigerador', 'Tiene tablet', 'Tiene computador', 'Tiene TV', 'Tiene celular']\n",
        "pos = groupby_target(train, columnas, nombres)\n"
      ]
    },
    {
      "cell_type": "code",
      "execution_count": null,
      "metadata": {
        "id": "wI6P7SAaBhFV"
      },
      "outputs": [],
      "source": [
        "fig = px.bar(pos, x=pos.index, y=pos.columns, title='Posesiones', barmode='group')\n",
        "fig.update_layout(xaxis_title=\"Posee\", yaxis_title=\"Número de personas\")\n",
        "fig.show()"
      ]
    },
    {
      "cell_type": "code",
      "execution_count": null,
      "metadata": {
        "id": "GxcPH9z0BhFV"
      },
      "outputs": [],
      "source": [
        "pos_por = groupby_target_por(train, columnas, nombres)\n",
        "fig = px.bar(pos_por, x=pos_por.index, y=pos_por.columns, title='Posesiones', barmode='group')\n",
        "fig.update_layout(xaxis_title=\"Posee\", yaxis_title=\"Porcentaje de personas\")\n",
        "fig.show()"
      ]
    },
    {
      "cell_type": "markdown",
      "metadata": {
        "id": "GzcOJCH8BhFW"
      },
      "source": [
        "### 3.3 ¿De que estan hechos los hogares?"
      ]
    },
    {
      "cell_type": "markdown",
      "metadata": {
        "id": "Wdg52nSABhFW"
      },
      "source": [
        "#### 3.3.1 Paredes"
      ]
    },
    {
      "cell_type": "code",
      "execution_count": null,
      "metadata": {
        "id": "YmWfI7pWBhFX"
      },
      "outputs": [],
      "source": [
        "columnas = ['paredblolad', 'paredzocalo', 'paredpreb', 'pareddes', 'paredmad', 'paredzinc', 'paredfibras', 'paredother']\n",
        "nombres = ['Pared de bloques/bloques de cemento', 'Pared de zócalo', 'Pared de prefabricado', 'Pared de desechos', 'Pared de madera', 'Pared de zinc', 'Pared de fibra de cemento', 'Otro tipo de pared']\n",
        "pared = groupby_target(train, columnas, nombres)\n",
        "fig = px.bar(pared, x=pared.index, y=pared.columns, title='Tipo de pared')\n",
        "fig.update_layout(xaxis_title=\"Tipo de pared\", yaxis_title=\"Número de personas\")\n",
        "fig.show()"
      ]
    },
    {
      "cell_type": "code",
      "execution_count": null,
      "metadata": {
        "id": "9MaPVTGEBhFY"
      },
      "outputs": [],
      "source": [
        "pared_por = groupby_target_por(train, columnas, nombres)\n",
        "fig = px.bar(pared_por, x=pared_por.index, y=pared_por.columns, title='Tipo de pared')\n",
        "fig.update_layout(xaxis_title=\"Tipo de pared\", yaxis_title=\"Porcentaje de personas\")\n",
        "fig.show()"
      ]
    },
    {
      "cell_type": "markdown",
      "metadata": {
        "id": "_oXQzJgIBhFY"
      },
      "source": [
        "#### 3.3.2 Pisos"
      ]
    },
    {
      "cell_type": "code",
      "execution_count": null,
      "metadata": {
        "id": "kiaMSVP-BhFZ"
      },
      "outputs": [],
      "source": [
        "columnas = ['pisomoscer', 'pisocemento', 'pisoother', 'pisonatur', 'pisonotiene', 'pisomadera']\n",
        "nombres = ['Piso de mosaico/cerámica', 'Piso de cemento', 'Otro tipo de piso', 'Piso de material natural', 'No tiene piso', 'Piso de madera']\n",
        "piso = groupby_target(train, columnas, nombres)\n",
        "fig = px.bar(piso, x=piso.index, y=piso.columns, title='Tipo de piso')\n",
        "fig.update_layout(xaxis_title=\"Tipo de piso\", yaxis_title=\"Número de personas\")\n",
        "fig.show()"
      ]
    },
    {
      "cell_type": "code",
      "execution_count": null,
      "metadata": {
        "id": "Rs7Y6IBIBhFZ"
      },
      "outputs": [],
      "source": [
        "piso_por = groupby_target_por(train, columnas, nombres)\n",
        "fig = px.bar(piso_por, x=piso_por.index, y=piso_por.columns, title='Tipo de piso')\n",
        "fig.update_layout(xaxis_title=\"Tipo de piso\", yaxis_title=\"Porcentaje de personas\")\n",
        "fig.show()"
      ]
    },
    {
      "cell_type": "markdown",
      "metadata": {
        "id": "j2yRIYtlBhFa"
      },
      "source": [
        "#### 3.3.3 Techos"
      ]
    },
    {
      "cell_type": "code",
      "execution_count": null,
      "metadata": {
        "id": "a8Jd6orLBhFa"
      },
      "outputs": [],
      "source": [
        "columnas = ['techozinc', 'techoentrepiso', 'techocane', 'techootro']\n",
        "nombres = ['Techo de zinc', 'Techo de entrepiso', 'Techo de caña', 'Otro tipo de techo']\n",
        "techo = groupby_target(train, columnas, nombres)\n",
        "fig = px.bar(techo, x=techo.index, y=techo.columns, title='Tipo de techo')\n",
        "fig.update_layout(xaxis_title=\"Tipo de techo\", yaxis_title=\"Número de personas\")\n",
        "fig.show()\n"
      ]
    },
    {
      "cell_type": "code",
      "execution_count": null,
      "metadata": {
        "id": "DvIQ7eTFBhFm"
      },
      "outputs": [],
      "source": [
        "techo_por = groupby_target_por(train, columnas, nombres)\n",
        "fig = px.bar(techo_por, x=techo_por.index, y=techo_por.columns, title='Tipo de techo')\n",
        "fig.update_layout(xaxis_title=\"Tipo de techo\", yaxis_title=\"Porcentaje de personas\")\n",
        "fig.show()"
      ]
    },
    {
      "cell_type": "markdown",
      "metadata": {
        "id": "CHX48AI1BhFn"
      },
      "source": [
        "### 3.4 ¿Como acceden a los servicios publicos?"
      ]
    },
    {
      "cell_type": "markdown",
      "metadata": {
        "id": "i1Y0HKbMBhFo"
      },
      "source": [
        "#### 3.4.1 Agua"
      ]
    },
    {
      "cell_type": "code",
      "execution_count": null,
      "metadata": {
        "id": "SfjbJEDGBhFo"
      },
      "outputs": [],
      "source": [
        "columnas = ['abastaguadentro', 'abastaguafuera', 'abastaguano']\n",
        "nombres = ['Tiene agua dentro de la vivienda', 'Tiene agua fuera de la vivienda', 'No tiene agua']\n",
        "agua = groupby_target(train, columnas, nombres)\n",
        "fig = px.bar(agua, x=agua.index, y=agua.columns, title='Abastecimiento de agua')\n",
        "fig.update_layout(xaxis_title=\"Abastecimiento de agua\", yaxis_title=\"Número de personas\")\n",
        "fig.show()\n"
      ]
    },
    {
      "cell_type": "code",
      "execution_count": null,
      "metadata": {
        "id": "E6laybAhBhFp"
      },
      "outputs": [],
      "source": [
        "agua_por = groupby_target_por(train, columnas, nombres)\n",
        "fig = px.bar(agua_por, x=agua_por.index, y=agua_por.columns, title='Abastecimiento de agua')\n",
        "fig.update_layout(xaxis_title=\"Abastecimiento de agua\", yaxis_title=\"Porcentaje de personas\")\n",
        "fig.show()"
      ]
    },
    {
      "cell_type": "markdown",
      "metadata": {
        "id": "yGax71dpBhFp"
      },
      "source": [
        "#### 3.4.2 Electricidad\n"
      ]
    },
    {
      "cell_type": "code",
      "execution_count": null,
      "metadata": {
        "id": "OpN4Lsj2BhFq"
      },
      "outputs": [],
      "source": [
        "columnas = ['public', 'planpri', 'noelec', 'coopele']\n",
        "nombres = ['Conexión pública', 'Conexión privada', 'No tiene conexión', 'Cooperativa eléctrica']\n",
        "elect = groupby_target(train, columnas, nombres)\n",
        "fig = px.bar(elect, x=elect.index, y=elect.columns, title='Electricidad')\n",
        "fig.update_layout(xaxis_title=\"Electricidad\", yaxis_title=\"Número de personas\")\n",
        "fig.show()\n"
      ]
    },
    {
      "cell_type": "code",
      "execution_count": null,
      "metadata": {
        "id": "jWjmve3OBhFq"
      },
      "outputs": [],
      "source": [
        "elect_por = groupby_target_por(train, columnas, nombres)\n",
        "fig = px.bar(elect_por, x=elect_por.index, y=elect_por.columns, title='Electricidad')\n",
        "fig.update_layout(xaxis_title=\"Electricidad\", yaxis_title=\"Porcentaje de personas\")\n",
        "fig.show()"
      ]
    },
    {
      "cell_type": "markdown",
      "metadata": {
        "id": "5t4_edCfBhFr"
      },
      "source": [
        "#### 3.4.3 Saneamiento"
      ]
    },
    {
      "cell_type": "code",
      "execution_count": null,
      "metadata": {
        "id": "mAjH31Z5BhFs"
      },
      "outputs": [],
      "source": [
        "columnas = ['sanitario1', 'sanitario2', 'sanitario3', 'sanitario5', 'sanitario6']\n",
        "nombres = ['Inodoro conectado a la red pública', 'Inodoro conectado a fosa séptica', 'Inodoro conectado a pozo séptico', 'Inodoro conectado a letrina', 'Inodoro sin conexión']\n",
        "san = groupby_target(train, columnas, nombres)\n",
        "fig = px.bar(san, x=san.index, y=san.columns, title='Tipo de inodoro')\n",
        "fig.update_layout(xaxis_title=\"Tipo de saneamiento\", yaxis_title=\"Número de personas\")\n",
        "fig.show()"
      ]
    },
    {
      "cell_type": "code",
      "execution_count": null,
      "metadata": {
        "id": "WWrqoeBYBhFs"
      },
      "outputs": [],
      "source": [
        "san_por = groupby_target_por(train, columnas, nombres)\n",
        "fig = px.bar(san_por, x=san_por.index, y=san_por.columns, title='Tipo de inodoro')\n",
        "fig.update_layout(xaxis_title=\"Tipo de inodoro\", yaxis_title=\"Porcentaje de personas\")\n",
        "fig.show()"
      ]
    },
    {
      "cell_type": "markdown",
      "metadata": {
        "id": "fPcYXwmkBhFt"
      },
      "source": [
        "#### 3.4.4 Energía para cocinar"
      ]
    },
    {
      "cell_type": "code",
      "execution_count": null,
      "metadata": {
        "id": "SB4R3sbLBhFu"
      },
      "outputs": [],
      "source": [
        "columnas = ['energcocinar1', 'energcocinar2', 'energcocinar3', 'energcocinar4']\n",
        "nombres = ['No tiene una fuente principal', 'Usa electricidad', 'Usa gas', 'Usa madera']\n",
        "coc = groupby_target(train, columnas, nombres)\n",
        "fig = px.bar(coc, x=coc.index, y=coc.columns, title='Fuente de cocina')\n",
        "fig.update_layout(xaxis_title=\"Fuente de cocina\", yaxis_title=\"Número de personas\")\n",
        "fig.show()\n"
      ]
    },
    {
      "cell_type": "code",
      "execution_count": null,
      "metadata": {
        "id": "7Py9ob17BhFv"
      },
      "outputs": [],
      "source": [
        "coc_por = groupby_target_por(train, columnas, nombres)\n",
        "fig = px.bar(coc_por, x=coc_por.index, y=coc_por.columns, title='Fuente de cocina')\n",
        "fig.update_layout(xaxis_title=\"Fuente de cocina\", yaxis_title=\"Porcentaje de personas\")\n",
        "fig.show()"
      ]
    },
    {
      "cell_type": "markdown",
      "metadata": {
        "id": "Z7qOtoKdBhFw"
      },
      "source": [
        "#### 3.4.5 Gestión de residuos"
      ]
    },
    {
      "cell_type": "code",
      "execution_count": null,
      "metadata": {
        "id": "0Pahg3FzBhFw"
      },
      "outputs": [],
      "source": [
        "columnas = ['elimbasu1', 'elimbasu2', 'elimbasu3', 'elimbasu4', 'elimbasu5', 'elimbasu6']\n",
        "nombres = ['Tiene servicio de recolección pública', 'Entierra la basura', 'Quema la basura', 'Tira la basura a un lugar desocupado ','Tira la basura en un río, lago u mar', 'Otra forma']\n",
        "bas = groupby_target(train, columnas, nombres)\n",
        "fig = px.bar(bas, x=bas.index, y=bas.columns, title='Gestión de residuos')\n",
        "fig.update_layout(xaxis_title=\"Eliminación de basura\", yaxis_title=\"Número de personas\")\n",
        "fig.show()"
      ]
    },
    {
      "cell_type": "code",
      "execution_count": null,
      "metadata": {
        "id": "xeTam8RKBhFx"
      },
      "outputs": [],
      "source": [
        "bas_por = groupby_target_por(train, columnas, nombres)\n",
        "fig = px.bar(bas_por, x=bas_por.index, y=bas_por.columns, title='Gestión de residuos')\n",
        "fig.update_layout(xaxis_title=\"Eliminación de basura\", yaxis_title=\"Porcentaje de personas\")\n",
        "fig.show()"
      ]
    },
    {
      "cell_type": "markdown",
      "metadata": {
        "id": "Zhj0-to3BhFx"
      },
      "source": [
        "### 3.5 ¿Cual es el estado de la vivienda?"
      ]
    },
    {
      "cell_type": "markdown",
      "metadata": {
        "id": "PoFNj0TbBhFy"
      },
      "source": [
        "En esta sección se usaron barras separadas para mostrar el porcentaje, debido a que en este caso la diferencia es notable"
      ]
    },
    {
      "cell_type": "markdown",
      "metadata": {
        "id": "q0HGsGI_BhFy"
      },
      "source": [
        "#### 3.5.1 Paredes"
      ]
    },
    {
      "cell_type": "code",
      "execution_count": null,
      "metadata": {
        "id": "wI7PJnvcBhFz"
      },
      "outputs": [],
      "source": [
        "columnas = ['epared1', 'epared2', 'epared3']\n",
        "nombres = ['Paredes exteriores en mal estado', 'Paredes exteriores en regular estado', 'Paredes exteriores en buen estado']\n",
        "epared = groupby_target(train, columnas, nombres)\n",
        "fig = px.bar(epared, x=epared.index, y=epared.columns, title='Estado de las paredes')\n",
        "fig.update_layout(xaxis_title=\"Estado de las paredes\", yaxis_title=\"Número de personas\")\n",
        "fig.show()"
      ]
    },
    {
      "cell_type": "code",
      "execution_count": null,
      "metadata": {
        "id": "o0jpBQM8BhFz"
      },
      "outputs": [],
      "source": [
        "epared_por = groupby_target_por(train, columnas, nombres)\n",
        "fig = px.bar(epared_por, x=epared_por.index, y=epared_por.columns, title='Estado de las paredes', barmode='group')\n",
        "fig.update_layout(xaxis_title=\"Estado de las paredes\", yaxis_title=\"Porcentaje de personas\")\n",
        "fig.show()"
      ]
    },
    {
      "cell_type": "markdown",
      "metadata": {
        "id": "TzIKuoB-BhF0"
      },
      "source": [
        "#### 3.5.2 Techo"
      ]
    },
    {
      "cell_type": "code",
      "execution_count": null,
      "metadata": {
        "id": "7Huyv5seBhF0"
      },
      "outputs": [],
      "source": [
        "columnas = ['etecho1', 'etecho2', 'etecho3']\n",
        "nombres = ['Techo en mal estado', 'Techo en regular estado', 'Techo en buen estado']\n",
        "etecho = groupby_target(train, columnas, nombres)\n",
        "fig = px.bar(etecho, x=etecho.index, y=etecho.columns, title='Estado del techo')\n",
        "fig.update_layout(xaxis_title=\"Estado del techo\", yaxis_title=\"Número de personas\")\n",
        "fig.show()\n"
      ]
    },
    {
      "cell_type": "code",
      "execution_count": null,
      "metadata": {
        "id": "Q5eRAh_yBhF1"
      },
      "outputs": [],
      "source": [
        "etecho_por = groupby_target_por(train, columnas, nombres)\n",
        "fig = px.bar(etecho_por, x=etecho_por.index, y=etecho_por.columns, title='Estado del techo')\n",
        "fig.update_layout(xaxis_title=\"Estado del techo\", yaxis_title=\"Porcentaje de personas\", barmode='group')\n",
        "fig.show()\n"
      ]
    },
    {
      "cell_type": "markdown",
      "metadata": {
        "id": "RedBfAUfBhF2"
      },
      "source": [
        "#### 3.5.3 Piso"
      ]
    },
    {
      "cell_type": "code",
      "execution_count": null,
      "metadata": {
        "id": "IzFqZ-dIBhF3"
      },
      "outputs": [],
      "source": [
        "columnas = ['eviv1', 'eviv2', 'eviv3']\n",
        "nombres = ['Piso en mal estado', 'Piso en regular estado', 'Piso en buen estado']\n",
        "eviv = groupby_target(train, columnas, nombres)\n",
        "fig = px.bar(eviv, x=eviv.index, y=eviv.columns, title='Estado del piso')\n",
        "fig.update_layout(xaxis_title=\"Estado del piso\", yaxis_title=\"Número de personas\")\n",
        "fig.show()"
      ]
    },
    {
      "cell_type": "code",
      "execution_count": null,
      "metadata": {
        "id": "MKlOzcSNBhF3"
      },
      "outputs": [],
      "source": [
        "piso_por = groupby_target_por(train, columnas, nombres)\n",
        "fig = px.bar(piso_por, x=piso_por.index, y=piso_por.columns, title='Estado del piso', barmode='group')\n",
        "fig.update_layout(xaxis_title=\"Estado del piso\", yaxis_title=\"Porcentaje de personas\")\n",
        "fig.show()"
      ]
    },
    {
      "cell_type": "markdown",
      "metadata": {
        "id": "uW-KyGgtBhF4"
      },
      "source": [
        "### 3.6 ¿Cual es la composición de las familias en las viviendas?"
      ]
    },
    {
      "cell_type": "markdown",
      "metadata": {
        "id": "HgmCLSK-BhF4"
      },
      "source": [
        "#### 3.6.1 ¿En el hogar hay personas con discapacidad?\n"
      ]
    },
    {
      "cell_type": "code",
      "execution_count": null,
      "metadata": {
        "id": "W97mbJ55BhF5"
      },
      "outputs": [],
      "source": [
        "columnas = ['dis']\n",
        "nombres = ['Hogares con discapacitados']\n",
        "disc = groupby_target(train, columnas, nombres)\n",
        "fig = px.bar(disc, x=disc.index, y=disc.columns, title='Discapacitados')\n",
        "fig.update_layout(xaxis_title=\"Discapacitados\", yaxis_title=\"Número de personas\", barmode='group')\n",
        "fig.show()"
      ]
    },
    {
      "cell_type": "code",
      "execution_count": null,
      "metadata": {
        "id": "o3tF2P4IBhF5"
      },
      "outputs": [],
      "source": [
        "disc_por = groupby_target_por(train, columnas, nombres)\n",
        "fig = px.bar(disc_por, x=disc_por.index, y=disc_por.columns, title='Discapacitados')\n",
        "fig.update_layout(xaxis_title=\"Discapacitados\", yaxis_title=\"Porcentaje de personas\", barmode='group')\n",
        "fig.show()"
      ]
    },
    {
      "cell_type": "markdown",
      "metadata": {
        "id": "e-3F5UTABhF6"
      },
      "source": [
        "#### 3.6.3 ¿Cual es el estado civil de las personas de la vivienda?\n"
      ]
    },
    {
      "cell_type": "code",
      "execution_count": null,
      "metadata": {
        "id": "LmkLxfY4BhF6"
      },
      "outputs": [],
      "source": [
        "columnas = ['estadocivil1', 'estadocivil2', 'estadocivil3', 'estadocivil4', 'estadocivil5', 'estadocivil6', 'estadocivil7']\n",
        "nombres = ['>10 años', 'Unión libre', 'Casado/a', 'Divorciado/a', 'Separado/a', 'Viudo/a', 'Soltero/a']\n",
        "est = groupby_target(train, columnas, nombres)\n",
        "fig = px.bar(est, x=est.index, y=est.columns, title='Estado civil')\n",
        "fig.update_layout(xaxis_title=\"Estado civil\", yaxis_title=\"Número de personas\")\n",
        "fig.show()"
      ]
    },
    {
      "cell_type": "code",
      "execution_count": null,
      "metadata": {
        "id": "sNxQqlFHBhF7"
      },
      "outputs": [],
      "source": [
        "est_por = groupby_target_por(train, columnas, nombres)\n",
        "fig = px.bar(est_por, x=est_por.index, y=est_por.columns, title='Estado civil')\n",
        "fig.update_layout(xaxis_title=\"Estado civil\", yaxis_title=\"Porcentaje de personas\")\n",
        "fig.show()"
      ]
    },
    {
      "cell_type": "markdown",
      "metadata": {
        "id": "o2DbqYUJBhF7"
      },
      "source": [
        "### 3.7 ¿Cual es el nivel educativo de las personas de la vivienda?\n"
      ]
    },
    {
      "cell_type": "code",
      "execution_count": null,
      "metadata": {
        "id": "R3FOtI8-BhF8"
      },
      "outputs": [],
      "source": [
        "columnas = ['instlevel1', 'instlevel2', 'instlevel3', 'instlevel4', 'instlevel5', 'instlevel6', 'instlevel7', 'instlevel8', 'instlevel9']\n",
        "nombres = ['Sin educación','Primaria incompleta', 'Primaria', 'Secundaria incompleta','Secundaria', 'Tecnica incompleta', 'Técnica', 'Pregrado', 'Posgrado']\n",
        "inst = groupby_target(train, columnas, nombres)\n",
        "fig = px.bar(inst, x=inst.index, y=inst.columns, title='Nivel educativo')\n",
        "fig.update_layout(xaxis_title=\"Nivel educativo\", yaxis_title=\"Número de personas\")\n",
        "fig.show()"
      ]
    },
    {
      "cell_type": "code",
      "execution_count": null,
      "metadata": {
        "id": "8MCIz-uuBhF8"
      },
      "outputs": [],
      "source": [
        "inst_por = groupby_target_por(train, columnas, nombres)\n",
        "fig = px.bar(inst_por, x=inst_por.index, y=inst_por.columns, title='Nivel educativo', barmode='group')\n",
        "fig.update_layout(xaxis_title=\"Nivel educativo\", yaxis_title=\"Porcentaje de personas\")\n",
        "fig.show()"
      ]
    },
    {
      "cell_type": "markdown",
      "metadata": {
        "id": "3UNZjOavBhF9"
      },
      "source": [
        "### 3.8 ¿La vivienda es propiedad de la familia?"
      ]
    },
    {
      "cell_type": "code",
      "execution_count": null,
      "metadata": {
        "id": "al6u5XkgBhF9"
      },
      "outputs": [],
      "source": [
        "columnas = ['tipovivi1', 'tipovivi2', 'tipovivi3', 'tipovivi4', 'tipovivi5']\n",
        "nombres = ['Casa propia', 'Pagando cuotas', 'Alquilada', 'Precaria', 'Prestada/Asignada']\n",
        "tip = groupby_target(train, columnas, nombres)\n",
        "fig = px.bar(tip, x=tip.index, y=tip.columns, title='Tipo de vivienda')\n",
        "fig.update_layout(xaxis_title=\"Tipo de vivienda\", yaxis_title=\"Número de personas\")\n",
        "fig.show()\n"
      ]
    },
    {
      "cell_type": "code",
      "execution_count": null,
      "metadata": {
        "id": "kPuxjLQgBhF9"
      },
      "outputs": [],
      "source": [
        "tipo_por = groupby_target_por(train, columnas, nombres)\n",
        "fig = px.bar(tipo_por, x=tipo_por.index, y=tipo_por.columns, title='Tipo de vivienda')\n",
        "fig.update_layout(xaxis_title=\"Tipo de vivienda\", yaxis_title=\"Porcentaje de personas\")\n",
        "fig.show()"
      ]
    },
    {
      "cell_type": "markdown",
      "metadata": {
        "id": "73IXReTnBhF-"
      },
      "source": [
        "### 3.9 ¿Cual es la ubicación de la vivienda?"
      ]
    },
    {
      "cell_type": "code",
      "execution_count": null,
      "metadata": {
        "id": "m5FaaGTbBhF_"
      },
      "outputs": [],
      "source": [
        "columnas = ['lugar1', 'lugar2', 'lugar3', 'lugar4', 'lugar5', 'lugar6']\n",
        "nombres = ['Central', 'Chorotega', 'Pacífico central', 'Brunca', 'Huetar Atlántica', 'Huetar Norte']\n",
        "lug = groupby_target(train, columnas, nombres)\n",
        "fig = px.bar(lug, x=lug.index, y=lug.columns, title='Región')\n",
        "fig.update_layout(xaxis_title=\"Región\", yaxis_title=\"Número de personas\")\n",
        "fig.show()"
      ]
    },
    {
      "cell_type": "code",
      "execution_count": null,
      "metadata": {
        "id": "WNSLcmMLBhF_"
      },
      "outputs": [],
      "source": [
        "lug_por = groupby_target_por(train, columnas, nombres)\n",
        "fig = px.bar(lug_por, x=lug_por.index, y=lug_por.columns, title='Región')\n",
        "fig.update_layout(xaxis_title=\"Región\", yaxis_title=\"Porcentaje de personas\", barmode='group')\n",
        "fig.show()"
      ]
    },
    {
      "cell_type": "markdown",
      "metadata": {
        "id": "-rZgNWo9BhGA"
      },
      "source": [
        "#### 3.9.1 ¿Es una ubicación urbana o rural?"
      ]
    },
    {
      "cell_type": "code",
      "execution_count": null,
      "metadata": {
        "id": "uAyfBk0pBhGA"
      },
      "outputs": [],
      "source": [
        "columnas = ['area1', 'area2']\n",
        "nombres = ['Urbana', 'Rural']\n",
        "area = groupby_target(train, columnas, nombres)\n",
        "fig = px.bar(area, x=area.index, y=area.columns, title='Área')\n",
        "fig.update_layout(xaxis_title=\"Área\", yaxis_title=\"Número de personas\")\n",
        "fig.show()"
      ]
    },
    {
      "cell_type": "code",
      "execution_count": null,
      "metadata": {
        "id": "5oyPyPmrBhGB"
      },
      "outputs": [],
      "source": [
        "area_por = groupby_target_por(train, columnas, nombres)\n",
        "fig = px.bar(area_por, x=area_por.index, y=area_por.columns, title='Área')\n",
        "fig.update_layout(xaxis_title=\"Área\", yaxis_title=\"Porcentaje de personas\", barmode='group')\n",
        "fig.show()"
      ]
    },
    {
      "cell_type": "markdown",
      "metadata": {
        "id": "zpKT5TwXBhGB"
      },
      "source": [
        "## 4. Variables numéricas"
      ]
    },
    {
      "cell_type": "code",
      "execution_count": null,
      "metadata": {
        "id": "havlsclTBhGC"
      },
      "outputs": [],
      "source": [
        "numericas = ['v2a1', 'rooms', 'v18q1', 'r4h1', 'r4h2', 'r4h3', 'r4m1', 'r4m2', 'r4m3', 'r4t1', 'r4t2', 'r4t3', 'tamhog', 'tamviv', 'escolari', 'rez_esc', 'hhsize', 'hogar_nin', 'hogar_adul', 'hogar_mayor', 'hogar_total', 'meaneduc', 'bedrooms', 'qmobilephone', 'age', 'SQBescolari', 'SQBage', 'SQBhogar_total', 'SQBedjefe', 'SQBhogar_nin', 'SQBovercrowding', 'SQBdependency', 'SQBmeaned', 'agesq']\n",
        "nombres = ['Renta', 'Habitaciones', 'Tablets', 'Hombres menores de 12 años', 'Hombres mayores de 12 años', 'Hombres en el hogar', 'Mujeres menores de 12 años', 'Mujeres mayores de 12 años', 'Mujeres en el hogar', 'Total personas menores de 12 años', 'Total personas mayores de 12 años', 'Total de personas en el hogar', 'Tamaño del hogar', 'Numero de personas en la vivienda', 'Años de escolaridad', 'Años de rezago escolar', 'Tamaño de la vivienda', 'Hogar niños', 'Hogar Adultos', 'Hogar mayor de 65', 'Personas en el hogar', 'Promedio de años de escolaridad', 'Dormitorios', 'Teléfonos móviles', 'Edad', 'Años de escolaridad al cuadrado', 'Edad al cuadrado', 'Tamaño del hogar al cuadrado', 'Años de escolaridad del jefe al cuadrado', 'Niños menores de 12 años al cuadrado', 'Personas por habitación', 'Personas por dependiente al cuadrado', 'Promedio de años de escolaridad al cuadrado', 'Edad al cuadrado']"
      ]
    },
    {
      "cell_type": "markdown",
      "metadata": {
        "id": "Xcnpk52sBhGC"
      },
      "source": [
        "### 4.1 Distribución de las variables numéricas"
      ]
    },
    {
      "cell_type": "code",
      "execution_count": null,
      "metadata": {
        "id": "ZTJoiFiGBhGD"
      },
      "outputs": [],
      "source": [
        "train[numericas].rename(columns= dict(zip(numericas, nombres))).hist(figsize=(25,25))\n",
        "plt.suptitle('Histogramas de variables numéricas', fontsize=16)\n",
        "plt.show()"
      ]
    },
    {
      "cell_type": "markdown",
      "metadata": {
        "id": "DCaqIJRBBhGD"
      },
      "source": [
        "### 4.2 Correlación entre las variables numéricas"
      ]
    },
    {
      "cell_type": "code",
      "execution_count": null,
      "metadata": {
        "id": "TBDGTPOoBhGD"
      },
      "outputs": [],
      "source": [
        "corr = train[numericas].rename(columns=dict(zip(numericas,nombres))).corr()\n",
        "plt.figure(figsize=(20,20))\n",
        "sns.heatmap(corr, annot=True, fmt='.2f', cmap='coolwarm')\n",
        "plt.show()\n",
        "\n",
        "\n"
      ]
    }
  ],
  "metadata": {
    "kernelspec": {
      "display_name": "Python 3",
      "language": "python",
      "name": "python3"
    },
    "language_info": {
      "codemirror_mode": {
        "name": "ipython",
        "version": 3
      },
      "file_extension": ".py",
      "mimetype": "text/x-python",
      "name": "python",
      "nbconvert_exporter": "python",
      "pygments_lexer": "ipython3",
      "version": "3.10.11"
    },
    "colab": {
      "provenance": [],
      "include_colab_link": true
    }
  },
  "nbformat": 4,
  "nbformat_minor": 0
}
